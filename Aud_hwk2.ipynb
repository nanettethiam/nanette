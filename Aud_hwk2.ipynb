{
 "cells": [
  {
   "cell_type": "code",
   "execution_count": 193,
   "metadata": {},
   "outputs": [],
   "source": [
    "import pandas as pd  #package for data manipulation and analysis\n",
    "import numpy as np  #package for scientific computing\n",
    "import matplotlib.pyplot as plt #plotting library \n",
    "\n",
    "from sklearn.metrics import accuracy_score\n",
    "from sklearn import datasets\n",
    "from sklearn.ensemble import GradientBoostingRegressor  #GBM algorithm\n",
    "\n",
    "#\"matplotlib inline\" allow to choose where our plot will output (within the note book or outside(inline))\n",
    "%matplotlib inline "
   ]
  },
  {
   "cell_type": "markdown",
   "metadata": {},
   "source": [
    "# Importing files"
   ]
  },
  {
   "cell_type": "code",
   "execution_count": 65,
   "metadata": {},
   "outputs": [],
   "source": [
    "title_ratings  = pd.read_csv('/cdsg/model/dev/emea/russia/app/17RS02/My_python_training/title_ratings.tsv', sep=\"\\t\")\n",
    "title_crew  = pd.read_csv('/cdsg/model/dev/emea/russia/app/17RS02/My_python_training/title_crew.tsv', sep=\"\\t\")\n",
    "title_episode  = pd.read_csv('/cdsg/model/dev/emea/russia/app/17RS02/My_python_training/title_episode.tsv', sep=\"\\t\")\n",
    "title_akas  = pd.read_csv('/cdsg/model/dev/emea/russia/app/17RS02/My_python_training/title_akas.txt', delimiter=\"\\t\",error_bad_lines=False)"
   ]
  },
  {
   "cell_type": "code",
   "execution_count": 3,
   "metadata": {},
   "outputs": [
    {
     "name": "stderr",
     "output_type": "stream",
     "text": [
      "/opt/anaconda2/lib/python2.7/site-packages/IPython/core/interactiveshell.py:2718: DtypeWarning: Columns (5) have mixed types. Specify dtype option on import or set low_memory=False.\n",
      "  interactivity=interactivity, compiler=compiler, result=result)\n"
     ]
    }
   ],
   "source": [
    "name_basics  = pd.read_csv('/cdsg/model/dev/emea/russia/app/17RS02/My_python_training/name_basics.tsv', sep=\"\\t\")\n",
    "title_basics  = pd.read_csv('/cdsg/model/dev/emea/russia/app/17RS02/My_python_training/title_basics.tsv', sep=\"\\t\")\n",
    "Title_principals  = pd.read_csv('/cdsg/model/dev/emea/russia/app/17RS02/My_python_training/Title_principals.tsv', sep=\"\\t\")\n"
   ]
  },
  {
   "cell_type": "code",
   "execution_count": null,
   "metadata": {},
   "outputs": [],
   "source": [
    "title_ratings.shape\n",
    "title_crew.shape\n",
    "title_episode.shape\n",
    "title_akas.shape\n",
    "name_basics.shape\n",
    "Title_principals.shape\n",
    "title_basics.shape\n"
   ]
  },
  {
   "cell_type": "code",
   "execution_count": null,
   "metadata": {},
   "outputs": [],
   "source": [
    "title_ratings.head()\n",
    "title_basics.head()\n",
    "name_basics.head()\n",
    "Title_principals.head()\n",
    "title_akas.head()\n",
    "title_basics.head()\n"
   ]
  },
  {
   "cell_type": "markdown",
   "metadata": {},
   "source": [
    "# Target statistics:Model prediction - average movie rating"
   ]
  },
  {
   "cell_type": "markdown",
   "metadata": {},
   "source": [
    "Variables types in title_ratings"
   ]
  },
  {
   "cell_type": "code",
   "execution_count": 15,
   "metadata": {},
   "outputs": [
    {
     "data": {
      "text/plain": [
       "tconst            object\n",
       "averageRating    float64\n",
       "numVotes           int64\n",
       "dtype: object"
      ]
     },
     "execution_count": 15,
     "metadata": {},
     "output_type": "execute_result"
    }
   ],
   "source": [
    "title_ratings.dtypes \n",
    "#title_ratings['averageRating'].value_counts()\n"
   ]
  },
  {
   "cell_type": "markdown",
   "metadata": {},
   "source": [
    "relplacing \\N by nan"
   ]
  },
  {
   "cell_type": "code",
   "execution_count": 66,
   "metadata": {},
   "outputs": [],
   "source": [
    "title_ratings1 = title_ratings.replace('\\N', np.nan)"
   ]
  },
  {
   "cell_type": "code",
   "execution_count": 67,
   "metadata": {},
   "outputs": [
    {
     "data": {
      "text/html": [
       "<div>\n",
       "<style scoped>\n",
       "    .dataframe tbody tr th:only-of-type {\n",
       "        vertical-align: middle;\n",
       "    }\n",
       "\n",
       "    .dataframe tbody tr th {\n",
       "        vertical-align: top;\n",
       "    }\n",
       "\n",
       "    .dataframe thead th {\n",
       "        text-align: right;\n",
       "    }\n",
       "</style>\n",
       "<table border=\"1\" class=\"dataframe\">\n",
       "  <thead>\n",
       "    <tr style=\"text-align: right;\">\n",
       "      <th></th>\n",
       "      <th>averageRating</th>\n",
       "      <th>numVotes</th>\n",
       "    </tr>\n",
       "  </thead>\n",
       "  <tbody>\n",
       "    <tr>\n",
       "      <th>count</th>\n",
       "      <td>958632.000000</td>\n",
       "      <td>9.586320e+05</td>\n",
       "    </tr>\n",
       "    <tr>\n",
       "      <th>mean</th>\n",
       "      <td>6.900907</td>\n",
       "      <td>9.650228e+02</td>\n",
       "    </tr>\n",
       "    <tr>\n",
       "      <th>std</th>\n",
       "      <td>1.400554</td>\n",
       "      <td>1.563950e+04</td>\n",
       "    </tr>\n",
       "    <tr>\n",
       "      <th>min</th>\n",
       "      <td>1.000000</td>\n",
       "      <td>5.000000e+00</td>\n",
       "    </tr>\n",
       "    <tr>\n",
       "      <th>25%</th>\n",
       "      <td>6.100000</td>\n",
       "      <td>9.000000e+00</td>\n",
       "    </tr>\n",
       "    <tr>\n",
       "      <th>50%</th>\n",
       "      <td>7.100000</td>\n",
       "      <td>2.000000e+01</td>\n",
       "    </tr>\n",
       "    <tr>\n",
       "      <th>75%</th>\n",
       "      <td>7.900000</td>\n",
       "      <td>7.700000e+01</td>\n",
       "    </tr>\n",
       "    <tr>\n",
       "      <th>max</th>\n",
       "      <td>10.000000</td>\n",
       "      <td>2.119675e+06</td>\n",
       "    </tr>\n",
       "  </tbody>\n",
       "</table>\n",
       "</div>"
      ],
      "text/plain": [
       "       averageRating      numVotes\n",
       "count  958632.000000  9.586320e+05\n",
       "mean        6.900907  9.650228e+02\n",
       "std         1.400554  1.563950e+04\n",
       "min         1.000000  5.000000e+00\n",
       "25%         6.100000  9.000000e+00\n",
       "50%         7.100000  2.000000e+01\n",
       "75%         7.900000  7.700000e+01\n",
       "max        10.000000  2.119675e+06"
      ]
     },
     "execution_count": 67,
     "metadata": {},
     "output_type": "execute_result"
    }
   ],
   "source": [
    "title_ratings1.describe()"
   ]
  },
  {
   "cell_type": "markdown",
   "metadata": {},
   "source": [
    "Quantiles on average rating"
   ]
  },
  {
   "cell_type": "code",
   "execution_count": 20,
   "metadata": {},
   "outputs": [
    {
     "name": "stdout",
     "output_type": "stream",
     "text": [
      "0.00     1.0\n",
      "0.10     5.0\n",
      "0.25     6.1\n",
      "0.50     7.1\n",
      "0.75     7.9\n",
      "0.95     8.8\n",
      "0.99     9.5\n",
      "1.00    10.0\n",
      "Name: averageRating, dtype: float64\n"
     ]
    }
   ],
   "source": [
    "quant = title_ratings1['averageRating'].quantile([0, 0.1,0.25, 0.50, 0.75, 0.95, 0.99, 1])\n",
    "print quant"
   ]
  },
  {
   "cell_type": "code",
   "execution_count": 68,
   "metadata": {},
   "outputs": [
    {
     "data": {
      "text/plain": [
       "7.2    34486\n",
       "7.8    32955\n",
       "7.0    32623\n",
       "7.6    32189\n",
       "7.4    32011\n",
       "6.8    30121\n",
       "8.0    30108\n",
       "7.3    28956\n",
       "7.7    28758\n",
       "7.5    28689\n",
       "7.1    27574\n",
       "8.2    26669\n",
       "6.6    25819\n",
       "7.9    25705\n",
       "6.9    24776\n",
       "8.1    24378\n",
       "6.7    24239\n",
       "6.4    23651\n",
       "6.2    22666\n",
       "6.5    21910\n",
       "6.3    19750\n",
       "6.0    19737\n",
       "8.3    19519\n",
       "8.4    18825\n",
       "5.8    16913\n",
       "6.1    16751\n",
       "8.5    15647\n",
       "8.6    15154\n",
       "5.9    14154\n",
       "5.6    13554\n",
       "       ...  \n",
       "3.4     2197\n",
       "3.5     2060\n",
       "9.5     2044\n",
       "3.2     1877\n",
       "9.8     1750\n",
       "3.3     1738\n",
       "3.0     1576\n",
       "9.7     1549\n",
       "2.8     1436\n",
       "3.1     1404\n",
       "2.9     1104\n",
       "2.6     1041\n",
       "1.0      999\n",
       "2.7      982\n",
       "2.5      841\n",
       "2.4      832\n",
       "2.2      763\n",
       "2.3      753\n",
       "2.0      656\n",
       "2.1      599\n",
       "1.8      470\n",
       "9.9      446\n",
       "1.9      445\n",
       "1.6      416\n",
       "1.7      405\n",
       "1.4      296\n",
       "1.5      275\n",
       "1.2      250\n",
       "1.1      230\n",
       "1.3      218\n",
       "Name: averageRating, Length: 91, dtype: int64"
      ]
     },
     "execution_count": 68,
     "metadata": {},
     "output_type": "execute_result"
    }
   ],
   "source": [
    "title_ratings1['averageRating'].value_counts() "
   ]
  },
  {
   "cell_type": "markdown",
   "metadata": {},
   "source": [
    "# \"Title_crew\" table"
   ]
  },
  {
   "cell_type": "code",
   "execution_count": 48,
   "metadata": {},
   "outputs": [
    {
     "data": {
      "text/plain": [
       "tconst       object\n",
       "directors    object\n",
       "writers      object\n",
       "dtype: object"
      ]
     },
     "execution_count": 48,
     "metadata": {},
     "output_type": "execute_result"
    }
   ],
   "source": [
    "title_crew.dtypes "
   ]
  },
  {
   "cell_type": "markdown",
   "metadata": {},
   "source": [
    "Replacing \\N by nan"
   ]
  },
  {
   "cell_type": "code",
   "execution_count": 76,
   "metadata": {
    "scrolled": true
   },
   "outputs": [],
   "source": [
    "title_crew1 = title_crew.replace('\\N', np.nan)\n",
    "#print title_crew1"
   ]
  },
  {
   "cell_type": "code",
   "execution_count": 74,
   "metadata": {},
   "outputs": [
    {
     "data": {
      "text/plain": [
       "nm0417224                                                      5422\n",
       "nm0006724,nm0512728                                            4600\n",
       "nm0914844                                                      4557\n",
       "nm3064446,nm3052538                                            3548\n",
       "nm0163210                                                      3079\n",
       "nm0341311                                                      2737\n",
       "nm8996518,nm7006227,nm6908651,nm9115585,nm9115586,nm9115584    2710\n",
       "nm0297742                                                      2676\n",
       "nm0633202                                                      2644\n",
       "nm5378778,nm2097520,nm4029150,nm2814611,nm4030057              2451\n",
       "nm0722865                                                      2448\n",
       "nm1853938,nm2276735                                            2375\n",
       "nm1368206,nm1644621                                            2359\n",
       "nm0068589                                                      2019\n",
       "nm0001468                                                      1851\n",
       "nm1041858                                                      1839\n",
       "nm10757708,nm6427508                                           1802\n",
       "nm1033267,nm1033349                                            1787\n",
       "nm7149567                                                      1765\n",
       "nm0912726                                                      1763\n",
       "nm1340699                                                      1734\n",
       "nm3128158,nm9828406                                            1732\n",
       "nm1865788,nm8453064,nm10103938                                 1704\n",
       "nm0896874                                                      1697\n",
       "nm4829756                                                      1683\n",
       "nm0308318                                                      1645\n",
       "nm7370686                                                      1595\n",
       "nm0586035                                                      1554\n",
       "nm1282374,nm1293423                                            1548\n",
       "nm8042385,nm9957701                                            1517\n",
       "                                                               ... \n",
       "nm2992029,nm0794106,nm0243019,nm2642918,nm9069579                 1\n",
       "nm0955417,nm1595340                                               1\n",
       "nm2950350                                                         1\n",
       "nm9766717                                                         1\n",
       "nm0317605                                                         1\n",
       "nm3691417                                                         1\n",
       "nm0076363,nm0199498,nm0199752,nm0543733,nm0900098                 1\n",
       "nm4680909,nm4649581,nm3626646,nm5340472                           1\n",
       "nm0319213,nm0332467,nm1430258                                     1\n",
       "nm0553916,nm0146873,nm0553912,nm0332417,nm0744410,nm0502391       1\n",
       "nm0221512,nm0954804                                               1\n",
       "nm1939860,nm1943707                                               1\n",
       "nm1304676,nm1729322                                               1\n",
       "nm7127682                                                         1\n",
       "nm9022536                                                         1\n",
       "nm0323937,nm5261341                                               1\n",
       "nm5069558                                                         1\n",
       "nm0485137,nm0936508                                               1\n",
       "nm7741794,nm7741795                                               1\n",
       "nm0519133,nm0550798                                               1\n",
       "nm1918529                                                         1\n",
       "nm9859924,nm7821061,nm4872740                                     1\n",
       "nm2112267,nm4306389,nm3326174,nm3324055                           1\n",
       "nm3016325                                                         1\n",
       "nm0506625                                                         1\n",
       "nm0104377                                                         1\n",
       "nm0002192,nm0379150,nm0725420                                     1\n",
       "nm0104373                                                         1\n",
       "nm2929016                                                         1\n",
       "nm0000636,nm0040644                                               1\n",
       "Name: writers, Length: 970203, dtype: int64"
      ]
     },
     "execution_count": 74,
     "metadata": {},
     "output_type": "execute_result"
    }
   ],
   "source": [
    "#title_crew1['directors'].value_counts()\n",
    "title_crew1['writers'].value_counts()\n"
   ]
  },
  {
   "cell_type": "markdown",
   "metadata": {},
   "source": [
    "Replacing the missing values by the most common value"
   ]
  },
  {
   "cell_type": "code",
   "execution_count": 77,
   "metadata": {},
   "outputs": [],
   "source": [
    "title_crew1['directors'].fillna('nm0565214', inplace=True) #\n",
    "title_crew1['writers'].fillna('nm0417224', inplace=True) "
   ]
  },
  {
   "cell_type": "markdown",
   "metadata": {},
   "source": [
    "# title_akas table"
   ]
  },
  {
   "cell_type": "code",
   "execution_count": 49,
   "metadata": {},
   "outputs": [
    {
     "data": {
      "text/plain": [
       "titleId            object\n",
       "ordering            int64\n",
       "title              object\n",
       "region             object\n",
       "language           object\n",
       "types              object\n",
       "attributes         object\n",
       "isOriginalTitle    object\n",
       "dtype: object"
      ]
     },
     "execution_count": 49,
     "metadata": {},
     "output_type": "execute_result"
    }
   ],
   "source": [
    "title_akas.dtypes "
   ]
  },
  {
   "cell_type": "markdown",
   "metadata": {},
   "source": [
    "Replacing \\N by nan"
   ]
  },
  {
   "cell_type": "code",
   "execution_count": 79,
   "metadata": {},
   "outputs": [],
   "source": [
    "title_akas1 = title_akas.replace('\\N', np.nan)\n",
    "#print title_akas"
   ]
  },
  {
   "cell_type": "code",
   "execution_count": 85,
   "metadata": {},
   "outputs": [
    {
     "data": {
      "text/plain": [
       "0    2936480\n",
       "0     367169\n",
       "1     338190\n",
       "1      55068\n",
       "Name: isOriginalTitle, dtype: int64"
      ]
     },
     "execution_count": 85,
     "metadata": {},
     "output_type": "execute_result"
    }
   ],
   "source": [
    "title_akas1['isOriginalTitle'].value_counts()"
   ]
  },
  {
   "cell_type": "markdown",
   "metadata": {},
   "source": [
    "Replacing the missing values by the most common value"
   ]
  },
  {
   "cell_type": "code",
   "execution_count": 86,
   "metadata": {},
   "outputs": [],
   "source": [
    "title_akas1['title'].fillna('Episode #1.1', inplace=True) #\n",
    "title_akas1['region'].fillna('US', inplace=True) \n",
    "title_akas1['language'].fillna('en', inplace=True) \n",
    "title_akas1['types'].fillna('imdbDisplay', inplace=True) \n",
    "title_akas1['attributes'].fillna('transliterated ISO-LATIN-1 title', inplace=True) \n",
    "title_akas1['isOriginalTitle'].fillna('0', inplace=True) "
   ]
  },
  {
   "cell_type": "markdown",
   "metadata": {},
   "source": [
    "Renaming titleId to tconst (principal key)"
   ]
  },
  {
   "cell_type": "code",
   "execution_count": 87,
   "metadata": {
    "scrolled": true
   },
   "outputs": [
    {
     "data": {
      "text/plain": [
       "Index([u'title', u'region', u'language', u'types', u'attributes',\n",
       "       u'isOriginalTitle', u'tconst'],\n",
       "      dtype='object')"
      ]
     },
     "execution_count": 87,
     "metadata": {},
     "output_type": "execute_result"
    }
   ],
   "source": [
    "title_akas1['tconst'] = title_akas1['titleId'] #rename the key\n",
    "title_akas1 = title_akas1.drop(['titleId','ordering' ], axis=1) #drop \"ordering\" as it's a key won't be used as predictor\n",
    "title_akas1.columns"
   ]
  },
  {
   "cell_type": "markdown",
   "metadata": {},
   "source": [
    "# Title_episode"
   ]
  },
  {
   "cell_type": "code",
   "execution_count": 56,
   "metadata": {},
   "outputs": [
    {
     "data": {
      "text/plain": [
       "tconst           object\n",
       "parentTconst     object\n",
       "seasonNumber     object\n",
       "episodeNumber    object\n",
       "dtype: object"
      ]
     },
     "execution_count": 56,
     "metadata": {},
     "output_type": "execute_result"
    }
   ],
   "source": [
    "title_episode.dtypes "
   ]
  },
  {
   "cell_type": "markdown",
   "metadata": {},
   "source": [
    "Replacing \\N by Nan"
   ]
  },
  {
   "cell_type": "code",
   "execution_count": 91,
   "metadata": {},
   "outputs": [
    {
     "name": "stdout",
     "output_type": "stream",
     "text": [
      "            tconst parentTconst seasonNumber episodeNumber\n",
      "0        tt0041951    tt0041038            1             9\n",
      "1        tt0042816    tt0989125            1            17\n",
      "2        tt0042889    tt0989125          NaN           NaN\n",
      "3        tt0043426    tt0040051            3            42\n",
      "4        tt0043631    tt0989125            2            16\n",
      "5        tt0043693    tt0989125            2             8\n",
      "6        tt0043710    tt0989125            3             3\n",
      "7        tt0044093    tt0959862            1             6\n",
      "8        tt0044901    tt0989125            3            46\n",
      "9        tt0045519    tt0989125            4            11\n",
      "10       tt0045960    tt0044284            2             3\n",
      "11       tt0046135    tt0989125            4             5\n",
      "12       tt0046150    tt0341798          NaN           NaN\n",
      "13       tt0046855    tt0046643            1             4\n",
      "14       tt0046864    tt0989125            5            20\n",
      "15       tt0047810    tt0914702            3            36\n",
      "16       tt0047852    tt0047745            1            15\n",
      "17       tt0047858    tt0046637            2             9\n",
      "18       tt0047961    tt0989125            6             5\n",
      "19       tt0048067    tt0046587            2            20\n",
      "20       tt0048302    tt0047768            1             6\n",
      "21       tt0048371    tt0989125            6            11\n",
      "22       tt0048378    tt0047702            1             6\n",
      "23       tt0048462    tt0047702            1             3\n",
      "24       tt0048562    tt0047768            1            10\n",
      "25       tt0048883    tt0989125            6            42\n",
      "26       tt0049473    tt0046593            1            20\n",
      "27       tt0049572    tt0914702            1            30\n",
      "28       tt0049669    tt0048893            1             2\n",
      "29       tt0050031    tt0050013            1             4\n",
      "...            ...          ...          ...           ...\n",
      "4224776  tt9916794    tt1289683            2            33\n",
      "4224777  tt9916796    tt1289683            2            34\n",
      "4224778  tt9916798    tt1289683            2            36\n",
      "4224779  tt9916800    tt1289683            2            35\n",
      "4224780  tt9916802    tt5189940           12            15\n",
      "4224781  tt9916804    tt1289683            2            37\n",
      "4224782  tt9916806    tt1289683            3             1\n",
      "4224783  tt9916808    tt1289683            3             2\n",
      "4224784  tt9916810    tt5189940           12            16\n",
      "4224785  tt9916812    tt1289683            3             3\n",
      "4224786  tt9916814    tt1289683            3             4\n",
      "4224787  tt9916816    tt1289683            3             5\n",
      "4224788  tt9916818    tt1289683            3             6\n",
      "4224789  tt9916820    tt1289683            3             7\n",
      "4224790  tt9916822    tt1289683            3             8\n",
      "4224791  tt9916824    tt1289683            3             9\n",
      "4224792  tt9916826    tt1289683            3            10\n",
      "4224793  tt9916830    tt1828066            2             6\n",
      "4224794  tt9916832    tt1289683            3            11\n",
      "4224795  tt9916834    tt1289683            3            12\n",
      "4224796  tt9916836    tt1289683            3            14\n",
      "4224797  tt9916838    tt1289683            3            13\n",
      "4224798  tt9916840    tt0985991            4             1\n",
      "4224799  tt9916842    tt1289683            3            16\n",
      "4224800  tt9916844    tt1289683            3            15\n",
      "4224801  tt9916846    tt1289683            3            18\n",
      "4224802  tt9916848    tt1289683            3            17\n",
      "4224803  tt9916850    tt1289683            3            19\n",
      "4224804  tt9916852    tt1289683            3            20\n",
      "4224805  tt9916880    tt0985991            4             2\n",
      "\n",
      "[4224806 rows x 4 columns]\n"
     ]
    }
   ],
   "source": [
    "title_episode1 = title_episode.replace('\\N', np.nan)\n",
    "print title_episode1"
   ]
  },
  {
   "cell_type": "code",
   "execution_count": 94,
   "metadata": {},
   "outputs": [
    {
     "data": {
      "text/plain": [
       "1        178668\n",
       "2        161722\n",
       "3        154572\n",
       "4        144572\n",
       "5        134898\n",
       "6        126448\n",
       "7        109081\n",
       "8        102302\n",
       "9         90543\n",
       "10        86128\n",
       "11        73639\n",
       "12        70170\n",
       "13        62325\n",
       "14        47893\n",
       "15        45000\n",
       "16        42318\n",
       "17        39331\n",
       "18        37990\n",
       "19        36388\n",
       "20        35246\n",
       "21        32109\n",
       "22        31018\n",
       "23        28557\n",
       "24        27490\n",
       "25        25404\n",
       "26        24091\n",
       "27        20026\n",
       "28        19417\n",
       "29        18825\n",
       "30        18302\n",
       "          ...  \n",
       "13971         1\n",
       "15614         1\n",
       "15617         1\n",
       "14502         1\n",
       "14503         1\n",
       "14500         1\n",
       "15389         1\n",
       "14836         1\n",
       "14044         1\n",
       "14248         1\n",
       "15574         1\n",
       "15575         1\n",
       "14240         1\n",
       "15578         1\n",
       "14244         1\n",
       "14247         1\n",
       "14246         1\n",
       "15388         1\n",
       "14501         1\n",
       "14219         1\n",
       "14211         1\n",
       "15579         1\n",
       "15619         1\n",
       "15618         1\n",
       "15615         1\n",
       "15169         1\n",
       "14505         1\n",
       "14504         1\n",
       "14507         1\n",
       "14454         1\n",
       "Name: episodeNumber, Length: 15536, dtype: int64"
      ]
     },
     "execution_count": 94,
     "metadata": {},
     "output_type": "execute_result"
    }
   ],
   "source": [
    "title_episode1['episodeNumber'].value_counts()"
   ]
  },
  {
   "cell_type": "markdown",
   "metadata": {},
   "source": [
    "Replacing the missing values by the most common value"
   ]
  },
  {
   "cell_type": "code",
   "execution_count": 63,
   "metadata": {},
   "outputs": [],
   "source": [
    "title_episode1['parentTconst'].fillna('tt0058796', inplace=True) #\n",
    "title_episode1['seasonNumber'].fillna('1', inplace=True) \n",
    "title_episode1['episodeNumber'].fillna('1', inplace=True) "
   ]
  },
  {
   "cell_type": "code",
   "execution_count": 64,
   "metadata": {},
   "outputs": [
    {
     "data": {
      "text/plain": [
       "1       1992603\n",
       "No       915687\n",
       "2        374904\n",
       "3        210708\n",
       "4        139929\n",
       "5        100831\n",
       "6         77070\n",
       "7         60187\n",
       "8         47429\n",
       "9         36310\n",
       "10        29660\n",
       "11        24477\n",
       "12        20871\n",
       "13        18632\n",
       "14        15934\n",
       "15        13992\n",
       "16        13316\n",
       "17        11896\n",
       "18        10097\n",
       "19         9164\n",
       "20         8722\n",
       "22         8114\n",
       "21         8104\n",
       "23         6926\n",
       "24         5574\n",
       "25         5153\n",
       "26         4746\n",
       "29         4422\n",
       "27         4421\n",
       "28         4350\n",
       "         ...   \n",
       "102          10\n",
       "93            9\n",
       "91            9\n",
       "95            8\n",
       "2006          8\n",
       "173           8\n",
       "174           8\n",
       "2012          7\n",
       "94            7\n",
       "171           7\n",
       "201           7\n",
       "172           5\n",
       "191           5\n",
       "2017          5\n",
       "2011          5\n",
       "92            4\n",
       "2010          4\n",
       "1967          4\n",
       "160           3\n",
       "190           3\n",
       "2019          3\n",
       "1965          3\n",
       "189           3\n",
       "2014          2\n",
       "1966          2\n",
       "1980          1\n",
       "175           1\n",
       "183           1\n",
       "1973          1\n",
       "2000          1\n",
       "Name: seasonNumber, Length: 201, dtype: int64"
      ]
     },
     "execution_count": 64,
     "metadata": {},
     "output_type": "execute_result"
    }
   ],
   "source": [
    "title_episode1['seasonNumber'].value_counts() "
   ]
  },
  {
   "cell_type": "markdown",
   "metadata": {},
   "source": [
    "# name_basics table"
   ]
  },
  {
   "cell_type": "code",
   "execution_count": 95,
   "metadata": {},
   "outputs": [
    {
     "data": {
      "text/plain": [
       "nconst               object\n",
       "primaryName          object\n",
       "birthYear            object\n",
       "deathYear            object\n",
       "primaryProfession    object\n",
       "knownForTitles       object\n",
       "dtype: object"
      ]
     },
     "execution_count": 95,
     "metadata": {},
     "output_type": "execute_result"
    }
   ],
   "source": [
    "name_basics.dtypes "
   ]
  },
  {
   "cell_type": "markdown",
   "metadata": {},
   "source": [
    "Replacing \\N by nan"
   ]
  },
  {
   "cell_type": "code",
   "execution_count": 110,
   "metadata": {},
   "outputs": [
    {
     "name": "stdout",
     "output_type": "stream",
     "text": [
      "           nconst          primaryName birthYear deathYear  \\\n",
      "0       nm0000001         Fred Astaire      1899      1987   \n",
      "1       nm0000002        Lauren Bacall      1924      2014   \n",
      "2       nm0000003      Brigitte Bardot      1934       NaN   \n",
      "3       nm0000004         John Belushi      1949      1982   \n",
      "4       nm0000005       Ingmar Bergman      1918      2007   \n",
      "5       nm0000006       Ingrid Bergman      1915      1982   \n",
      "6       nm0000007      Humphrey Bogart      1899      1957   \n",
      "7       nm0000008        Marlon Brando      1924      2004   \n",
      "8       nm0000009       Richard Burton      1925      1984   \n",
      "9       nm0000010         James Cagney      1899      1986   \n",
      "10      nm0000011          Gary Cooper      1901      1961   \n",
      "11      nm0000012          Bette Davis      1908      1989   \n",
      "12      nm0000013            Doris Day      1922      2019   \n",
      "13      nm0000014  Olivia de Havilland      1916       NaN   \n",
      "14      nm0000015           James Dean      1931      1955   \n",
      "15      nm0000016      Georges Delerue      1925      1992   \n",
      "16      nm0000017     Marlene Dietrich      1901      1992   \n",
      "17      nm0000018         Kirk Douglas      1916       NaN   \n",
      "18      nm0000019     Federico Fellini      1920      1993   \n",
      "19      nm0000020          Henry Fonda      1905      1982   \n",
      "20      nm0000021        Joan Fontaine      1917      2013   \n",
      "21      nm0000022          Clark Gable      1901      1960   \n",
      "22      nm0000023         Judy Garland      1922      1969   \n",
      "23      nm0000024         John Gielgud      1904      2000   \n",
      "24      nm0000025      Jerry Goldsmith      1929      2004   \n",
      "25      nm0000026           Cary Grant      1904      1986   \n",
      "26      nm0000027        Alec Guinness      1914      2000   \n",
      "27      nm0000028        Rita Hayworth      1918      1987   \n",
      "28      nm0000029    Margaux Hemingway      1954      1996   \n",
      "29      nm0000030       Audrey Hepburn      1929      1993   \n",
      "...           ...                  ...       ...       ...   \n",
      "261951  nm0275582          Oleg Fialko      1946       NaN   \n",
      "261952  nm0275583  Joshua Hale Fialkov      1979       NaN   \n",
      "261953  nm0275584   Drahomíra Fialková      1923      2010   \n",
      "261954  nm0275585         Delia Fiallo      1924       NaN   \n",
      "261955  nm0275586       Ivanka Fialova       NaN       NaN   \n",
      "261956  nm0275587        Kveta Fialová      1929      2017   \n",
      "261957  nm0275588       Vlasta Fialová      1928      1998   \n",
      "261958  nm0275589       Zuzana Fialová      1974       NaN   \n",
      "261959  nm0275590      Alice Fialowski       NaN       NaN   \n",
      "261960  nm0275591    Alexander Fialski       NaN       NaN   \n",
      "261961  nm0275592         Clely Fiamma      1914      1977   \n",
      "261962  nm0275593            Fiammetta      1950       NaN   \n",
      "261963  nm0275594         Antonio Fian       NaN       NaN   \n",
      "261964  nm0275595        Lewis Fiander      1938      2016   \n",
      "261965  nm0275596             O. Fiane       NaN       NaN   \n",
      "261966  nm0275597         Amelin Fiani       NaN       NaN   \n",
      "261967  nm0275598           Mike Fiant       NaN       NaN   \n",
      "261968  nm0275599        Christi Fiara       NaN       NaN   \n",
      "261969  nm0275600       Richard Fiardo       NaN       NaN   \n",
      "261970  nm0275601  Giovanni Fiaschetti       NaN       NaN   \n",
      "261971  nm0275602        César Fiaschi       NaN      1954   \n",
      "261972  nm0275603    Filiberto Fiaschi       NaN       NaN   \n",
      "261973  nm0275604       Giulio Fiaschi       NaN       NaN   \n",
      "261974  nm0275605  Francesco M. Fiasco       NaN       NaN   \n",
      "261975  nm0275606     Frank Fiasconaro       NaN       NaN   \n",
      "261976  nm0275607  Giuseppe Fiasconaro       NaN       NaN   \n",
      "261977  nm0275608  Gregorio Fiasconaro       NaN       NaN   \n",
      "261978  nm0275609  Marcello Fiasconaro       NaN       NaN   \n",
      "261979  nm0275610       Lyn-Del Fiaseu       NaN       NaN   \n",
      "261980  nm0275611       Jacopo Fiastri       NaN       NaN   \n",
      "\n",
      "                                     primaryProfession  \\\n",
      "0                       soundtrack,actor,miscellaneous   \n",
      "1                                   actress,soundtrack   \n",
      "2                          actress,soundtrack,producer   \n",
      "3                              actor,writer,soundtrack   \n",
      "4                                writer,director,actor   \n",
      "5                          actress,soundtrack,producer   \n",
      "6                            actor,soundtrack,producer   \n",
      "7                            actor,soundtrack,director   \n",
      "8                            actor,producer,soundtrack   \n",
      "9                            actor,soundtrack,director   \n",
      "10                           actor,soundtrack,producer   \n",
      "11               actress,soundtrack,make_up_department   \n",
      "12                         soundtrack,actress,producer   \n",
      "13                                  actress,soundtrack   \n",
      "14                                 actor,miscellaneous   \n",
      "15                composer,soundtrack,music_department   \n",
      "16                 soundtrack,actress,music_department   \n",
      "17                           actor,producer,soundtrack   \n",
      "18                  writer,director,assistant_director   \n",
      "19                           actor,producer,soundtrack   \n",
      "20                         actress,soundtrack,producer   \n",
      "21                           actor,soundtrack,producer   \n",
      "22                                  soundtrack,actress   \n",
      "23                               actor,writer,director   \n",
      "24                music_department,soundtrack,composer   \n",
      "25                           actor,soundtrack,producer   \n",
      "26                             actor,soundtrack,writer   \n",
      "27                         actress,soundtrack,producer   \n",
      "28                               actress,miscellaneous   \n",
      "29                                  actress,soundtrack   \n",
      "...                                                ...   \n",
      "261951                           director,writer,actor   \n",
      "261952                   writer,producer,miscellaneous   \n",
      "261953                                         actress   \n",
      "261954                                  writer,actress   \n",
      "261955                                   miscellaneous   \n",
      "261956                                         actress   \n",
      "261957                                         actress   \n",
      "261958                         actress,writer,director   \n",
      "261959                                             NaN   \n",
      "261960                                           actor   \n",
      "261961                                         actress   \n",
      "261962                                             NaN   \n",
      "261963                                          writer   \n",
      "261964                                           actor   \n",
      "261965                                           actor   \n",
      "261966                                         actress   \n",
      "261967               art_department,costume_department   \n",
      "261968                                 actress,manager   \n",
      "261969                                           actor   \n",
      "261970                                           actor   \n",
      "261971                                           actor   \n",
      "261972                assistant_director,miscellaneous   \n",
      "261973  production_manager,producer,assistant_director   \n",
      "261974                                           actor   \n",
      "261975                                             NaN   \n",
      "261976                                           actor   \n",
      "261977                                           actor   \n",
      "261978                                           actor   \n",
      "261979                                   miscellaneous   \n",
      "261980                                             com   \n",
      "\n",
      "                                 knownForTitles  \n",
      "0       tt0043044,tt0072308,tt0053137,tt0050419  \n",
      "1       tt0037382,tt0038355,tt0117057,tt0071877  \n",
      "2       tt0059956,tt0049189,tt0054452,tt0057345  \n",
      "3       tt0080455,tt0078723,tt0077975,tt0072562  \n",
      "4       tt0083922,tt0069467,tt0050986,tt0050976  \n",
      "5       tt0038109,tt0036855,tt0077711,tt0038787  \n",
      "6       tt0033870,tt0043265,tt0037382,tt0034583  \n",
      "7       tt0047296,tt0068646,tt0070849,tt0078788  \n",
      "8       tt0061184,tt0059749,tt0087803,tt0057877  \n",
      "9       tt0055256,tt0035575,tt0031867,tt0029870  \n",
      "10      tt0027996,tt0034167,tt0035211,tt0044706  \n",
      "11      tt0035140,tt0042192,tt0056687,tt0031210  \n",
      "12      tt0048317,tt0053172,tt0055100,tt0060463  \n",
      "13      tt0040806,tt0031381,tt0029843,tt0041452  \n",
      "14      tt0048545,tt0048028,tt0044245,tt0049261  \n",
      "15      tt0091763,tt0069946,tt0096320,tt0080610  \n",
      "16      tt0052311,tt0055031,tt0051201,tt0021156  \n",
      "17      tt0054331,tt0052365,tt0049456,tt0080736  \n",
      "18      tt0056801,tt0071129,tt0047528,tt0053779  \n",
      "19      tt0032551,tt0050083,tt0064116,tt0082846  \n",
      "20      tt0034248,tt0036969,tt0039504,tt0032976  \n",
      "21      tt0052278,tt0026752,tt0031381,tt0025316  \n",
      "22      tt0037059,tt0047522,tt0032138,tt0055031  \n",
      "23      tt0117631,tt0045943,tt0071877,tt0082031  \n",
      "24      tt0112715,tt0119488,tt0100802,tt0117731  \n",
      "25      tt0048728,tt0056923,tt0053125,tt0036613  \n",
      "26      tt0050212,tt0076759,tt0051739,tt0041546  \n",
      "27      tt0040525,tt0040552,tt0036723,tt0038559  \n",
      "28      tt0102122,tt0077800,tt0110138,tt0074802  \n",
      "29      tt0046250,tt0058385,tt0056923,tt0054698  \n",
      "...                                         ...  \n",
      "261951  tt0305295,tt0136263,tt4968966,tt0356761  \n",
      "261952  tt8174194,tt1641384,tt4118466,tt1560134  \n",
      "261953  tt0142032,tt0355295,tt0078753,tt0093607  \n",
      "261954  tt1171896,tt0247124,tt0211849,tt1268929  \n",
      "261955  tt0309820,tt0365675,tt0347017,tt0221928  \n",
      "261956  tt0170595,tt0075633,tt0058275,tt0172625  \n",
      "261957  tt0167898,tt2729920,tt0054496,tt0232906  \n",
      "261958  tt1261045,tt2209300,tt1830048,tt1394290  \n",
      "261959                                tt0125425  \n",
      "261960                                tt0172360  \n",
      "261961  tt0032451,tt0044325,tt0051926,tt0044345  \n",
      "261962                                      NaN  \n",
      "261963                                tt0188034  \n",
      "261964  tt0097581,tt0165050,tt0074977,tt0075462  \n",
      "261965                                tt0085742  \n",
      "261966  tt0438255,tt0242093,tt0145601,tt0209717  \n",
      "261967                      tt0243980,tt0272440  \n",
      "261968                                tt0112547  \n",
      "261969  tt0088002,tt0093673,tt0094105,tt0084841  \n",
      "261970                                tt0094471  \n",
      "261971  tt0178446,tt0121559,tt0204501,tt0194769  \n",
      "261972  tt0085540,tt0059055,tt0085356,tt0290240  \n",
      "261973  tt0046406,tt0041356,tt0043802,tt0049864  \n",
      "261974                                tt0150056  \n",
      "261975                                      NaN  \n",
      "261976                                tt0162779  \n",
      "261977                                tt0250116  \n",
      "261978                                tt0250116  \n",
      "261979                                tt0119567  \n",
      "261980                                      NaN  \n",
      "\n",
      "[261981 rows x 6 columns]\n"
     ]
    }
   ],
   "source": [
    "name_basics1 = name_basics.replace('\\N', np.nan)\n",
    "print name_basics1"
   ]
  },
  {
   "cell_type": "markdown",
   "metadata": {},
   "source": [
    "Renaming nconst to tconst"
   ]
  },
  {
   "cell_type": "code",
   "execution_count": 163,
   "metadata": {},
   "outputs": [
    {
     "data": {
      "text/plain": [
       "Index([u'nconst', u'primaryName', u'birthYear', u'deathYear',\n",
       "       u'primaryProfession', u'knownForTitles', u'birthYear1', u'deathYear1',\n",
       "       u'age_person', u'years_death', u'tconst'],\n",
       "      dtype='object')"
      ]
     },
     "execution_count": 163,
     "metadata": {},
     "output_type": "execute_result"
    }
   ],
   "source": [
    "name_basics1['tconst'] = name_basics1['nconst']\n",
    "name_basics1.columns"
   ]
  },
  {
   "cell_type": "markdown",
   "metadata": {},
   "source": [
    "Converting variable to Float"
   ]
  },
  {
   "cell_type": "code",
   "execution_count": 164,
   "metadata": {
    "scrolled": true
   },
   "outputs": [
    {
     "data": {
      "text/plain": [
       "nconst                object\n",
       "primaryName           object\n",
       "primaryProfession     object\n",
       "knownForTitles        object\n",
       "age_person           float64\n",
       "years_death          float64\n",
       "dtype: object"
      ]
     },
     "execution_count": 164,
     "metadata": {},
     "output_type": "execute_result"
    }
   ],
   "source": [
    "\n",
    "name_basics1['birthYear1'] = name_basics1['birthYear'].astype(float) #convert birth year to float\n",
    "name_basics1['deathYear1'] = name_basics1['deathYear'].astype(float) #convert birth year to float\n",
    "\n",
    "\n",
    "\n",
    "name_basics2.dtypes"
   ]
  },
  {
   "cell_type": "markdown",
   "metadata": {},
   "source": [
    "Creating 2 new variables based on birth year and death year"
   ]
  },
  {
   "cell_type": "code",
   "execution_count": 165,
   "metadata": {},
   "outputs": [
    {
     "name": "stdout",
     "output_type": "stream",
     "text": [
      "                primaryName                               primaryProfession  \\\n",
      "0              Fred Astaire                  soundtrack,actor,miscellaneous   \n",
      "1             Lauren Bacall                              actress,soundtrack   \n",
      "2           Brigitte Bardot                     actress,soundtrack,producer   \n",
      "3              John Belushi                         actor,writer,soundtrack   \n",
      "4            Ingmar Bergman                           writer,director,actor   \n",
      "5            Ingrid Bergman                     actress,soundtrack,producer   \n",
      "6           Humphrey Bogart                       actor,soundtrack,producer   \n",
      "7             Marlon Brando                       actor,soundtrack,director   \n",
      "8            Richard Burton                       actor,producer,soundtrack   \n",
      "9              James Cagney                       actor,soundtrack,director   \n",
      "10              Gary Cooper                       actor,soundtrack,producer   \n",
      "11              Bette Davis           actress,soundtrack,make_up_department   \n",
      "12                Doris Day                     soundtrack,actress,producer   \n",
      "13      Olivia de Havilland                              actress,soundtrack   \n",
      "14               James Dean                             actor,miscellaneous   \n",
      "15          Georges Delerue            composer,soundtrack,music_department   \n",
      "16         Marlene Dietrich             soundtrack,actress,music_department   \n",
      "17             Kirk Douglas                       actor,producer,soundtrack   \n",
      "18         Federico Fellini              writer,director,assistant_director   \n",
      "19              Henry Fonda                       actor,producer,soundtrack   \n",
      "20            Joan Fontaine                     actress,soundtrack,producer   \n",
      "21              Clark Gable                       actor,soundtrack,producer   \n",
      "22             Judy Garland                              soundtrack,actress   \n",
      "23             John Gielgud                           actor,writer,director   \n",
      "24          Jerry Goldsmith            music_department,soundtrack,composer   \n",
      "25               Cary Grant                       actor,soundtrack,producer   \n",
      "26            Alec Guinness                         actor,soundtrack,writer   \n",
      "27            Rita Hayworth                     actress,soundtrack,producer   \n",
      "28        Margaux Hemingway                           actress,miscellaneous   \n",
      "29           Audrey Hepburn                              actress,soundtrack   \n",
      "...                     ...                                             ...   \n",
      "261951          Oleg Fialko                           director,writer,actor   \n",
      "261952  Joshua Hale Fialkov                   writer,producer,miscellaneous   \n",
      "261953   Drahomíra Fialková                                         actress   \n",
      "261954         Delia Fiallo                                  writer,actress   \n",
      "261955       Ivanka Fialova                                   miscellaneous   \n",
      "261956        Kveta Fialová                                         actress   \n",
      "261957       Vlasta Fialová                                         actress   \n",
      "261958       Zuzana Fialová                         actress,writer,director   \n",
      "261959      Alice Fialowski                                           actor   \n",
      "261960    Alexander Fialski                                           actor   \n",
      "261961         Clely Fiamma                                         actress   \n",
      "261962            Fiammetta                                           actor   \n",
      "261963         Antonio Fian                                          writer   \n",
      "261964        Lewis Fiander                                           actor   \n",
      "261965             O. Fiane                                           actor   \n",
      "261966         Amelin Fiani                                         actress   \n",
      "261967           Mike Fiant               art_department,costume_department   \n",
      "261968        Christi Fiara                                 actress,manager   \n",
      "261969       Richard Fiardo                                           actor   \n",
      "261970  Giovanni Fiaschetti                                           actor   \n",
      "261971        César Fiaschi                                           actor   \n",
      "261972    Filiberto Fiaschi                assistant_director,miscellaneous   \n",
      "261973       Giulio Fiaschi  production_manager,producer,assistant_director   \n",
      "261974  Francesco M. Fiasco                                           actor   \n",
      "261975     Frank Fiasconaro                                           actor   \n",
      "261976  Giuseppe Fiasconaro                                           actor   \n",
      "261977  Gregorio Fiasconaro                                           actor   \n",
      "261978  Marcello Fiasconaro                                           actor   \n",
      "261979       Lyn-Del Fiaseu                                   miscellaneous   \n",
      "261980       Jacopo Fiastri                                             com   \n",
      "\n",
      "                                 knownForTitles  age_person  years_death  \\\n",
      "0       tt0043044,tt0072308,tt0053137,tt0050419       120.0         32.0   \n",
      "1       tt0037382,tt0038355,tt0117057,tt0071877        95.0          5.0   \n",
      "2       tt0059956,tt0049189,tt0054452,tt0057345        85.0          NaN   \n",
      "3       tt0080455,tt0078723,tt0077975,tt0072562        70.0         37.0   \n",
      "4       tt0083922,tt0069467,tt0050986,tt0050976       101.0         12.0   \n",
      "5       tt0038109,tt0036855,tt0077711,tt0038787       104.0         37.0   \n",
      "6       tt0033870,tt0043265,tt0037382,tt0034583       120.0         62.0   \n",
      "7       tt0047296,tt0068646,tt0070849,tt0078788        95.0         15.0   \n",
      "8       tt0061184,tt0059749,tt0087803,tt0057877        94.0         35.0   \n",
      "9       tt0055256,tt0035575,tt0031867,tt0029870       120.0         33.0   \n",
      "10      tt0027996,tt0034167,tt0035211,tt0044706       118.0         58.0   \n",
      "11      tt0035140,tt0042192,tt0056687,tt0031210       111.0         30.0   \n",
      "12      tt0048317,tt0053172,tt0055100,tt0060463        97.0          0.0   \n",
      "13      tt0040806,tt0031381,tt0029843,tt0041452       103.0          NaN   \n",
      "14      tt0048545,tt0048028,tt0044245,tt0049261        88.0         64.0   \n",
      "15      tt0091763,tt0069946,tt0096320,tt0080610        94.0         27.0   \n",
      "16      tt0052311,tt0055031,tt0051201,tt0021156       118.0         27.0   \n",
      "17      tt0054331,tt0052365,tt0049456,tt0080736       103.0          NaN   \n",
      "18      tt0056801,tt0071129,tt0047528,tt0053779        99.0         26.0   \n",
      "19      tt0032551,tt0050083,tt0064116,tt0082846       114.0         37.0   \n",
      "20      tt0034248,tt0036969,tt0039504,tt0032976       102.0          6.0   \n",
      "21      tt0052278,tt0026752,tt0031381,tt0025316       118.0         59.0   \n",
      "22      tt0037059,tt0047522,tt0032138,tt0055031        97.0         50.0   \n",
      "23      tt0117631,tt0045943,tt0071877,tt0082031       115.0         19.0   \n",
      "24      tt0112715,tt0119488,tt0100802,tt0117731        90.0         15.0   \n",
      "25      tt0048728,tt0056923,tt0053125,tt0036613       115.0         33.0   \n",
      "26      tt0050212,tt0076759,tt0051739,tt0041546       105.0         19.0   \n",
      "27      tt0040525,tt0040552,tt0036723,tt0038559       101.0         32.0   \n",
      "28      tt0102122,tt0077800,tt0110138,tt0074802        65.0         23.0   \n",
      "29      tt0046250,tt0058385,tt0056923,tt0054698        90.0         26.0   \n",
      "...                                         ...         ...          ...   \n",
      "261951  tt0305295,tt0136263,tt4968966,tt0356761        73.0          NaN   \n",
      "261952  tt8174194,tt1641384,tt4118466,tt1560134        40.0          NaN   \n",
      "261953  tt0142032,tt0355295,tt0078753,tt0093607        96.0          9.0   \n",
      "261954  tt1171896,tt0247124,tt0211849,tt1268929        95.0          NaN   \n",
      "261955  tt0309820,tt0365675,tt0347017,tt0221928         NaN          NaN   \n",
      "261956  tt0170595,tt0075633,tt0058275,tt0172625        90.0          2.0   \n",
      "261957  tt0167898,tt2729920,tt0054496,tt0232906        91.0         21.0   \n",
      "261958  tt1261045,tt2209300,tt1830048,tt1394290        45.0          NaN   \n",
      "261959                                tt0125425         NaN          NaN   \n",
      "261960                                tt0172360         NaN          NaN   \n",
      "261961  tt0032451,tt0044325,tt0051926,tt0044345       105.0         42.0   \n",
      "261962                                tt0048960        69.0          NaN   \n",
      "261963                                tt0188034         NaN          NaN   \n",
      "261964  tt0097581,tt0165050,tt0074977,tt0075462        81.0          3.0   \n",
      "261965                                tt0085742         NaN          NaN   \n",
      "261966  tt0438255,tt0242093,tt0145601,tt0209717         NaN          NaN   \n",
      "261967                      tt0243980,tt0272440         NaN          NaN   \n",
      "261968                                tt0112547         NaN          NaN   \n",
      "261969  tt0088002,tt0093673,tt0094105,tt0084841         NaN          NaN   \n",
      "261970                                tt0094471         NaN          NaN   \n",
      "261971  tt0178446,tt0121559,tt0204501,tt0194769         NaN         65.0   \n",
      "261972  tt0085540,tt0059055,tt0085356,tt0290240         NaN          NaN   \n",
      "261973  tt0046406,tt0041356,tt0043802,tt0049864         NaN          NaN   \n",
      "261974                                tt0150056         NaN          NaN   \n",
      "261975                                tt0048960         NaN          NaN   \n",
      "261976                                tt0162779         NaN          NaN   \n",
      "261977                                tt0250116         NaN          NaN   \n",
      "261978                                tt0250116         NaN          NaN   \n",
      "261979                                tt0119567         NaN          NaN   \n",
      "261980                                tt0048960         NaN          NaN   \n",
      "\n",
      "           tconst  \n",
      "0       nm0000001  \n",
      "1       nm0000002  \n",
      "2       nm0000003  \n",
      "3       nm0000004  \n",
      "4       nm0000005  \n",
      "5       nm0000006  \n",
      "6       nm0000007  \n",
      "7       nm0000008  \n",
      "8       nm0000009  \n",
      "9       nm0000010  \n",
      "10      nm0000011  \n",
      "11      nm0000012  \n",
      "12      nm0000013  \n",
      "13      nm0000014  \n",
      "14      nm0000015  \n",
      "15      nm0000016  \n",
      "16      nm0000017  \n",
      "17      nm0000018  \n",
      "18      nm0000019  \n",
      "19      nm0000020  \n",
      "20      nm0000021  \n",
      "21      nm0000022  \n",
      "22      nm0000023  \n",
      "23      nm0000024  \n",
      "24      nm0000025  \n",
      "25      nm0000026  \n",
      "26      nm0000027  \n",
      "27      nm0000028  \n",
      "28      nm0000029  \n",
      "29      nm0000030  \n",
      "...           ...  \n",
      "261951  nm0275582  \n",
      "261952  nm0275583  \n",
      "261953  nm0275584  \n",
      "261954  nm0275585  \n",
      "261955  nm0275586  \n",
      "261956  nm0275587  \n",
      "261957  nm0275588  \n",
      "261958  nm0275589  \n",
      "261959  nm0275590  \n",
      "261960  nm0275591  \n",
      "261961  nm0275592  \n",
      "261962  nm0275593  \n",
      "261963  nm0275594  \n",
      "261964  nm0275595  \n",
      "261965  nm0275596  \n",
      "261966  nm0275597  \n",
      "261967  nm0275598  \n",
      "261968  nm0275599  \n",
      "261969  nm0275600  \n",
      "261970  nm0275601  \n",
      "261971  nm0275602  \n",
      "261972  nm0275603  \n",
      "261973  nm0275604  \n",
      "261974  nm0275605  \n",
      "261975  nm0275606  \n",
      "261976  nm0275607  \n",
      "261977  nm0275608  \n",
      "261978  nm0275609  \n",
      "261979  nm0275610  \n",
      "261980  nm0275611  \n",
      "\n",
      "[261981 rows x 6 columns]\n"
     ]
    }
   ],
   "source": [
    "name_basics1['age_person'] = 2019 - name_basics1['birthYear1']\n",
    "name_basics1['years_death'] = 2019 - name_basics1['deathYear1']\n",
    "\n",
    "name_basics2 = name_basics1.drop(['birthYear','deathYear','birthYear1', 'deathYear1','nconst'], axis=1)\n",
    "print name_basics2"
   ]
  },
  {
   "cell_type": "code",
   "execution_count": 119,
   "metadata": {},
   "outputs": [
    {
     "data": {
      "text/plain": [
       "8.0      689\n",
       "13.0     681\n",
       "4.0      678\n",
       "11.0     665\n",
       "9.0      663\n",
       "10.0     660\n",
       "6.0      650\n",
       "14.0     646\n",
       "3.0      642\n",
       "2.0      637\n",
       "15.0     636\n",
       "7.0      635\n",
       "12.0     631\n",
       "5.0      620\n",
       "18.0     617\n",
       "1.0      604\n",
       "16.0     600\n",
       "17.0     592\n",
       "20.0     589\n",
       "19.0     575\n",
       "23.0     551\n",
       "26.0     539\n",
       "24.0     529\n",
       "21.0     523\n",
       "29.0     521\n",
       "22.0     518\n",
       "25.0     495\n",
       "30.0     494\n",
       "27.0     492\n",
       "28.0     478\n",
       "        ... \n",
       "239.0      1\n",
       "228.0      1\n",
       "241.0      1\n",
       "278.0      1\n",
       "159.0      1\n",
       "154.0      1\n",
       "218.0      1\n",
       "452.0      1\n",
       "396.0      1\n",
       "152.0      1\n",
       "417.0      1\n",
       "145.0      1\n",
       "371.0      1\n",
       "185.0      1\n",
       "147.0      1\n",
       "306.0      1\n",
       "425.0      1\n",
       "169.0      1\n",
       "212.0      1\n",
       "162.0      1\n",
       "255.0      1\n",
       "172.0      1\n",
       "286.0      1\n",
       "153.0      1\n",
       "619.0      1\n",
       "183.0      1\n",
       "221.0      1\n",
       "181.0      1\n",
       "315.0      1\n",
       "117.0      1\n",
       "Name: years_death, Length: 230, dtype: int64"
      ]
     },
     "execution_count": 119,
     "metadata": {},
     "output_type": "execute_result"
    }
   ],
   "source": [
    "name_basics2['years_death'].value_counts()"
   ]
  },
  {
   "cell_type": "markdown",
   "metadata": {},
   "source": [
    "Replacing the missing values by the most common value"
   ]
  },
  {
   "cell_type": "markdown",
   "metadata": {},
   "source": [
    "Replacing the continuous variables by the mean"
   ]
  },
  {
   "cell_type": "code",
   "execution_count": 223,
   "metadata": {},
   "outputs": [
    {
     "name": "stdout",
     "output_type": "stream",
     "text": [
      "0         120.000000\n",
      "1          95.000000\n",
      "2          85.000000\n",
      "3          70.000000\n",
      "4         101.000000\n",
      "5         104.000000\n",
      "6         120.000000\n",
      "7          95.000000\n",
      "8          94.000000\n",
      "9         120.000000\n",
      "10        118.000000\n",
      "11        111.000000\n",
      "12         97.000000\n",
      "13        103.000000\n",
      "14         88.000000\n",
      "15         94.000000\n",
      "16        118.000000\n",
      "17        103.000000\n",
      "18         99.000000\n",
      "19        114.000000\n",
      "20        102.000000\n",
      "21        118.000000\n",
      "22         97.000000\n",
      "23        115.000000\n",
      "24         90.000000\n",
      "25        115.000000\n",
      "26        105.000000\n",
      "27        101.000000\n",
      "28         65.000000\n",
      "29         90.000000\n",
      "             ...    \n",
      "261951     73.000000\n",
      "261952     40.000000\n",
      "261953     96.000000\n",
      "261954     95.000000\n",
      "261955     82.898478\n",
      "261956     90.000000\n",
      "261957     91.000000\n",
      "261958     45.000000\n",
      "261959     82.898478\n",
      "261960     82.898478\n",
      "261961    105.000000\n",
      "261962     69.000000\n",
      "261963     82.898478\n",
      "261964     81.000000\n",
      "261965     82.898478\n",
      "261966     82.898478\n",
      "261967     82.898478\n",
      "261968     82.898478\n",
      "261969     82.898478\n",
      "261970     82.898478\n",
      "261971     82.898478\n",
      "261972     82.898478\n",
      "261973     82.898478\n",
      "261974     82.898478\n",
      "261975     82.898478\n",
      "261976     82.898478\n",
      "261977     82.898478\n",
      "261978     82.898478\n",
      "261979     82.898478\n",
      "261980     82.898478\n",
      "Name: age_person, Length: 261981, dtype: float64\n"
     ]
    }
   ],
   "source": [
    "name_basics2['primaryName'].fillna('John Davis', inplace=True) #\n",
    "name_basics2['primaryProfession'].fillna('actor', inplace=True) \n",
    "name_basics2['knownForTitles'].fillna('tt0048960', inplace=True) \n",
    "\n",
    "name_basics2['age_person'].fillna(name_basics2['age_person'].mean(), inplace=True)\n",
    "name_basics2['years_death'].fillna(name_basics2['years_death'].mean(), inplace=True)\n",
    "\n",
    "print name_basics2['age_person']"
   ]
  },
  {
   "cell_type": "markdown",
   "metadata": {},
   "source": [
    "# Title_principals"
   ]
  },
  {
   "cell_type": "code",
   "execution_count": 129,
   "metadata": {
    "scrolled": true
   },
   "outputs": [
    {
     "data": {
      "text/plain": [
       "tconst        object\n",
       "ordering       int64\n",
       "nconst        object\n",
       "category      object\n",
       "job           object\n",
       "characters    object\n",
       "dtype: object"
      ]
     },
     "execution_count": 129,
     "metadata": {},
     "output_type": "execute_result"
    }
   ],
   "source": [
    "Title_principals.dtypes "
   ]
  },
  {
   "cell_type": "markdown",
   "metadata": {},
   "source": [
    "Replacing \\N by nan"
   ]
  },
  {
   "cell_type": "code",
   "execution_count": 130,
   "metadata": {},
   "outputs": [],
   "source": [
    "Title_principals1 = Title_principals.replace('\\N', np.nan)\n",
    "#print Title_principals1"
   ]
  },
  {
   "cell_type": "code",
   "execution_count": null,
   "metadata": {},
   "outputs": [],
   "source": []
  },
  {
   "cell_type": "code",
   "execution_count": 134,
   "metadata": {},
   "outputs": [
    {
     "data": {
      "text/plain": [
       "[\"Himself\"]                                             1769704\n",
       "[\"Herself\"]                                              873116\n",
       "[\"Himself - Host\"]                                       689274\n",
       "[\"Herself - Host\"]                                       223957\n",
       "[\"Himself - Guest\"]                                      125768\n",
       "[\"Herself - Hostess\"]                                    110940\n",
       "[\"Himself - Panelist\"]                                    96050\n",
       "[\"Himself - Presenter\"]                                   88802\n",
       "[\"Narrator\"]                                              83959\n",
       "[\"Herself - Guest\"]                                       81406\n",
       "[\"Themselves\"]                                            76078\n",
       "[\"Himself - Announcer\"]                                   71842\n",
       "[\"Himself - Co-Host\"]                                     69646\n",
       "[\"Herself - Panelist\"]                                    65026\n",
       "[\"Herself - Presenter\"]                                   64334\n",
       "[\"Herself - Co-Hostess\"]                                  47517\n",
       "[\"Himself - Contestant\"]                                  38174\n",
       "[\"Herself - Contestant\"]                                  36103\n",
       "[\"Herself - Co-Host\"]                                     32857\n",
       "[\"Himself - Judge\"]                                       31786\n",
       "[\"Various\"]                                               29304\n",
       "[\"Herself - Model\"]                                       29103\n",
       "[\"Himself - Newsreader\"]                                  28825\n",
       "[\"Herself - Newsreader\"]                                  28798\n",
       "[\"Himself - Correspondent\"]                               28336\n",
       "[\"Various Characters\"]                                    28326\n",
       "[\"Himself - Reporter\"]                                    26217\n",
       "[\"Herself - Correspondent\"]                               25682\n",
       "[\"Herself - Judge\"]                                       21876\n",
       "[\"Himself - Narrator\"]                                    21539\n",
       "                                                         ...   \n",
       "[\"Jesse Harms\"]                                               1\n",
       "[\"Hajtkovic\"]                                                 1\n",
       "[\"Jocko Donovan\"]                                             1\n",
       "[\"Dancer in Video #3\"]                                        1\n",
       "[\"Jenny Demiri\"]                                              1\n",
       "[\"Embarrassed Kid\"]                                           1\n",
       "[\"Grace Dare\"]                                                1\n",
       "[\"Tyronne White\"]                                             1\n",
       "[\"Graf\",\"Kelley\"]                                             1\n",
       "[\"Winnie Allen, The Rancher's Daughter\"]                      1\n",
       "[\"Cop\",\"Elevator Man\",\"Film Crew Member\"]                     1\n",
       "[\"Himself - Co-Host\",\"Himself\",\"Himself - Reporter\"]          1\n",
       "[\"El Amigo Perejiles\"]                                        1\n",
       "[\"Beanbag\"]                                                   1\n",
       "[\"Carmen Hidalgo\"]                                            1\n",
       "[\"Yarek\"]                                                     1\n",
       "[\"zhena Petrovicha\"]                                          1\n",
       "[\"Abdlkadir\"]                                                 1\n",
       "[\"Justin Wakefield\"]                                          1\n",
       "[\"J. Fullerton Weldy\"]                                        1\n",
       "[\"Vibol\"]                                                     1\n",
       "[\"Frank Braun\"]                                               1\n",
       "[\"Henri Taride\"]                                              1\n",
       "[\"Phil Larrabee\"]                                             1\n",
       "[\"Himself - Former Supt. Merseyside Police\"]                  1\n",
       "[\"Nostalgia Critic\",\"Tuffy the Tiger\",\"Batman\"]               1\n",
       "[\"Broffiero\"]                                                 1\n",
       "[\"Kun He\"]                                                    1\n",
       "[\"Evil Banana\"]                                               1\n",
       "[\"Tiffany's Salesperson\"]                                     1\n",
       "Name: characters, Length: 2161760, dtype: int64"
      ]
     },
     "execution_count": 134,
     "metadata": {},
     "output_type": "execute_result"
    }
   ],
   "source": [
    "Title_principals1['characters'].value_counts()"
   ]
  },
  {
   "cell_type": "markdown",
   "metadata": {},
   "source": [
    "replacing the missing values by the most common value"
   ]
  },
  {
   "cell_type": "code",
   "execution_count": 135,
   "metadata": {},
   "outputs": [],
   "source": [
    "Title_principals1['nconst'].fillna('nm0438471', inplace=True) #\n",
    "Title_principals1['category'].fillna('actor', inplace=True) \n",
    "Title_principals1['job'].fillna('producer', inplace=True) \n",
    "Title_principals1['characters'].fillna('[\"Himself\"]', inplace=True) "
   ]
  },
  {
   "cell_type": "code",
   "execution_count": 136,
   "metadata": {},
   "outputs": [],
   "source": [
    "Title_principals2 = Title_principals1.drop(['ordering'], axis=1)"
   ]
  },
  {
   "cell_type": "markdown",
   "metadata": {},
   "source": [
    "# title_basics"
   ]
  },
  {
   "cell_type": "code",
   "execution_count": 137,
   "metadata": {},
   "outputs": [
    {
     "data": {
      "text/plain": [
       "tconst            object\n",
       "titleType         object\n",
       "primaryTitle      object\n",
       "originalTitle     object\n",
       "isAdult            int64\n",
       "startYear         object\n",
       "endYear           object\n",
       "runtimeMinutes    object\n",
       "genres            object\n",
       "dtype: object"
      ]
     },
     "execution_count": 137,
     "metadata": {},
     "output_type": "execute_result"
    }
   ],
   "source": [
    "title_basics.dtypes"
   ]
  },
  {
   "cell_type": "markdown",
   "metadata": {},
   "source": [
    "Replacing \\N by nan"
   ]
  },
  {
   "cell_type": "code",
   "execution_count": 168,
   "metadata": {},
   "outputs": [
    {
     "name": "stdout",
     "output_type": "stream",
     "text": [
      "            tconst  titleType                                   primaryTitle  \\\n",
      "0        tt0000001      short                                     Carmencita   \n",
      "1        tt0000002      short                         Le clown et ses chiens   \n",
      "2        tt0000003      short                                 Pauvre Pierrot   \n",
      "3        tt0000004      short                                    Un bon bock   \n",
      "4        tt0000005      short                               Blacksmith Scene   \n",
      "5        tt0000006      short                              Chinese Opium Den   \n",
      "6        tt0000007      short    Corbett and Courtney Before the Kinetograph   \n",
      "7        tt0000008      short         Edison Kinetoscopic Record of a Sneeze   \n",
      "8        tt0000009      movie                                     Miss Jerry   \n",
      "9        tt0000010      short                            Exiting the Factory   \n",
      "10       tt0000011      short                        Akrobatisches Potpourri   \n",
      "11       tt0000012      short                         The Arrival of a Train   \n",
      "12       tt0000013      short    The Photographical Congress Arrives in Lyon   \n",
      "13       tt0000014      short                        The Sprinkler Sprinkled   \n",
      "14       tt0000015      short                            Autour d'une cabine   \n",
      "15       tt0000016      short                         Barque sortant du port   \n",
      "16       tt0000017      short                       Italienischer Bauerntanz   \n",
      "17       tt0000018      short                           Das boxende Känguruh   \n",
      "18       tt0000019      short                               The Clown Barber   \n",
      "19       tt0000020      short                                 The Derby 1895   \n",
      "20       tt0000022      short                               Blacksmith Scene   \n",
      "21       tt0000023      short                                        The Sea   \n",
      "22       tt0000024      short                      Opening of the Kiel Canal   \n",
      "23       tt0000025      short  The Oxford and Cambridge University Boat Race   \n",
      "24       tt0000026      short                  The Messers. Lumière at Cards   \n",
      "25       tt0000027      short                     Cordeliers' Square in Lyon   \n",
      "26       tt0000028      short                           Fishing for Goldfish   \n",
      "27       tt0000029      short                                  Baby's Dinner   \n",
      "28       tt0000030      short                             Rough Sea at Dover   \n",
      "29       tt0000031      short                            Jumping the Blanket   \n",
      "...            ...        ...                                            ...   \n",
      "6059196  tt9916796  tvEpisode                                  Episode #2.34   \n",
      "6059197  tt9916798  tvEpisode                                  Episode #2.36   \n",
      "6059198  tt9916800  tvEpisode                                  Episode #2.35   \n",
      "6059199  tt9916802  tvEpisode                                   Luc Janssens   \n",
      "6059200  tt9916804  tvEpisode                                  Episode #2.37   \n",
      "6059201  tt9916806  tvEpisode                                   Episode #3.1   \n",
      "6059202  tt9916808  tvEpisode                                   Episode #3.2   \n",
      "6059203  tt9916810  tvEpisode                   Danira Boukhriss Terkessidis   \n",
      "6059204  tt9916812  tvEpisode                                   Episode #3.3   \n",
      "6059205  tt9916814  tvEpisode                                   Episode #3.4   \n",
      "6059206  tt9916816  tvEpisode                                   Episode #3.5   \n",
      "6059207  tt9916818  tvEpisode                                   Episode #3.6   \n",
      "6059208  tt9916820  tvEpisode                                   Episode #3.7   \n",
      "6059209  tt9916822  tvEpisode                                   Episode #3.8   \n",
      "6059210  tt9916824  tvEpisode                                   Episode #3.9   \n",
      "6059211  tt9916826  tvEpisode                                  Episode #3.10   \n",
      "6059212  tt9916830  tvEpisode                                   Episode #2.6   \n",
      "6059213  tt9916832  tvEpisode                                  Episode #3.11   \n",
      "6059214  tt9916834  tvEpisode                                  Episode #3.12   \n",
      "6059215  tt9916836  tvEpisode                                  Episode #3.14   \n",
      "6059216  tt9916838  tvEpisode                                  Episode #3.13   \n",
      "6059217  tt9916840  tvEpisode                     Horrid Henry's Comic Caper   \n",
      "6059218  tt9916842  tvEpisode                                  Episode #3.16   \n",
      "6059219  tt9916844  tvEpisode                                  Episode #3.15   \n",
      "6059220  tt9916846  tvEpisode                                  Episode #3.18   \n",
      "6059221  tt9916848  tvEpisode                                  Episode #3.17   \n",
      "6059222  tt9916850  tvEpisode                                  Episode #3.19   \n",
      "6059223  tt9916852  tvEpisode                                  Episode #3.20   \n",
      "6059224  tt9916856      short                                       The Wind   \n",
      "6059225  tt9916880  tvEpisode                      Horrid Henry Knows It All   \n",
      "\n",
      "                                             originalTitle  isAdult startYear  \\\n",
      "0                                               Carmencita        0      1894   \n",
      "1                                   Le clown et ses chiens        0      1892   \n",
      "2                                           Pauvre Pierrot        0      1892   \n",
      "3                                              Un bon bock        0      1892   \n",
      "4                                         Blacksmith Scene        0      1893   \n",
      "5                                        Chinese Opium Den        0      1894   \n",
      "6              Corbett and Courtney Before the Kinetograph        0      1894   \n",
      "7                   Edison Kinetoscopic Record of a Sneeze        0      1894   \n",
      "8                                               Miss Jerry        0      1894   \n",
      "9                      La sortie de l'usine Lumière à Lyon        0      1895   \n",
      "10                                 Akrobatisches Potpourri        0      1895   \n",
      "11                        L'arrivée d'un train à La Ciotat        0      1896   \n",
      "12       Neuville-sur-Saône: Débarquement du congrès de...        0      1895   \n",
      "13                                       L'arroseur arrosé        0      1895   \n",
      "14                                     Autour d'une cabine        0      1894   \n",
      "15                                  Barque sortant du port        0      1895   \n",
      "16                                Italienischer Bauerntanz        0      1895   \n",
      "17                                    Das boxende Känguruh        0      1895   \n",
      "18                                        The Clown Barber        0      1898   \n",
      "19                                          The Derby 1895        0      1895   \n",
      "20                                           Les forgerons        0      1895   \n",
      "21                                         Baignade en mer        0      1895   \n",
      "22                               Opening of the Kiel Canal        0      1895   \n",
      "23           The Oxford and Cambridge University Boat Race        0      1895   \n",
      "24                                         Partie d'écarté        0      1896   \n",
      "25                             Place des Cordeliers à Lyon        0      1895   \n",
      "26                            La pêche aux poissons rouges        0      1895   \n",
      "27                                           Repas de bébé        0      1895   \n",
      "28                                      Rough Sea at Dover        0      1895   \n",
      "29                                 Le saut à la couverture        0      1895   \n",
      "...                                                    ...      ...       ...   \n",
      "6059196                                      Episode #2.34        0      2009   \n",
      "6059197                                      Episode #2.36        0      2009   \n",
      "6059198                                      Episode #2.35        0      2009   \n",
      "6059199                                       Luc Janssens        0      2019   \n",
      "6059200                                      Episode #2.37        0      2009   \n",
      "6059201                                       Episode #3.1        0      2010   \n",
      "6059202                                       Episode #3.2        0      2010   \n",
      "6059203                       Danira Boukhriss Terkessidis        0      2019   \n",
      "6059204                                       Episode #3.3        0      2010   \n",
      "6059205                                       Episode #3.4        0      2010   \n",
      "6059206                                       Episode #3.5        0      2010   \n",
      "6059207                                       Episode #3.6        0      2010   \n",
      "6059208                                       Episode #3.7        0      2010   \n",
      "6059209                                       Episode #3.8        0      2010   \n",
      "6059210                                       Episode #3.9        0      2010   \n",
      "6059211                                      Episode #3.10        0      2010   \n",
      "6059212                                       Episode #2.6        0      1973   \n",
      "6059213                                      Episode #3.11        0      2010   \n",
      "6059214                                      Episode #3.12        0      2010   \n",
      "6059215                                      Episode #3.14        0      2010   \n",
      "6059216                                      Episode #3.13        0      2010   \n",
      "6059217                         Horrid Henry's Comic Caper        0      2014   \n",
      "6059218                                      Episode #3.16        0      2010   \n",
      "6059219                                      Episode #3.15        0      2010   \n",
      "6059220                                      Episode #3.18        0      2010   \n",
      "6059221                                      Episode #3.17        0      2010   \n",
      "6059222                                      Episode #3.19        0      2010   \n",
      "6059223                                      Episode #3.20        0      2010   \n",
      "6059224                                           The Wind        0      2015   \n",
      "6059225                          Horrid Henry Knows It All        0      2014   \n",
      "\n",
      "        endYear runtimeMinutes                    genres  \n",
      "0           NaN              1         Documentary,Short  \n",
      "1           NaN              5           Animation,Short  \n",
      "2           NaN              4  Animation,Comedy,Romance  \n",
      "3           NaN            NaN           Animation,Short  \n",
      "4           NaN              1              Comedy,Short  \n",
      "5           NaN              1                     Short  \n",
      "6           NaN              1               Short,Sport  \n",
      "7           NaN              1         Documentary,Short  \n",
      "8           NaN             45                   Romance  \n",
      "9           NaN              1         Documentary,Short  \n",
      "10          NaN              1         Documentary,Short  \n",
      "11          NaN              1  Action,Documentary,Short  \n",
      "12          NaN              1         Documentary,Short  \n",
      "13          NaN              1              Comedy,Short  \n",
      "14          NaN              2           Animation,Short  \n",
      "15          NaN              1         Documentary,Short  \n",
      "16          NaN              1         Documentary,Short  \n",
      "17          NaN              1                     Short  \n",
      "18          NaN            NaN              Comedy,Short  \n",
      "19          NaN              1   Documentary,Short,Sport  \n",
      "20          NaN              1         Documentary,Short  \n",
      "21          NaN              1         Documentary,Short  \n",
      "22          NaN            NaN                News,Short  \n",
      "23          NaN            NaN          News,Short,Sport  \n",
      "24          NaN              1         Documentary,Short  \n",
      "25          NaN              1         Documentary,Short  \n",
      "26          NaN              1         Documentary,Short  \n",
      "27          NaN              1         Documentary,Short  \n",
      "28          NaN              1         Documentary,Short  \n",
      "29          NaN              1         Documentary,Short  \n",
      "...         ...            ...                       ...  \n",
      "6059196     NaN            NaN       Action,Drama,Family  \n",
      "6059197     NaN            NaN       Action,Drama,Family  \n",
      "6059198     NaN            NaN       Action,Drama,Family  \n",
      "6059199     NaN            NaN     Comedy,News,Talk-Show  \n",
      "6059200     NaN            NaN       Action,Drama,Family  \n",
      "6059201     NaN            NaN       Action,Drama,Family  \n",
      "6059202     NaN            NaN       Action,Drama,Family  \n",
      "6059203     NaN            NaN     Comedy,News,Talk-Show  \n",
      "6059204     NaN            NaN       Action,Drama,Family  \n",
      "6059205     NaN            NaN       Action,Drama,Family  \n",
      "6059206     NaN            NaN       Action,Drama,Family  \n",
      "6059207     NaN            NaN       Action,Drama,Family  \n",
      "6059208     NaN            NaN       Action,Drama,Family  \n",
      "6059209     NaN            NaN       Action,Drama,Family  \n",
      "6059210     NaN            NaN       Action,Drama,Family  \n",
      "6059211     NaN            NaN       Action,Drama,Family  \n",
      "6059212     NaN            NaN                 Game-Show  \n",
      "6059213     NaN            NaN       Action,Drama,Family  \n",
      "6059214     NaN            NaN       Action,Drama,Family  \n",
      "6059215     NaN            NaN       Action,Drama,Family  \n",
      "6059216     NaN            NaN       Action,Drama,Family  \n",
      "6059217     NaN            NaN   Animation,Comedy,Family  \n",
      "6059218     NaN            NaN       Action,Drama,Family  \n",
      "6059219     NaN            NaN       Action,Drama,Family  \n",
      "6059220     NaN            NaN       Action,Drama,Family  \n",
      "6059221     NaN            NaN       Action,Drama,Family  \n",
      "6059222     NaN            NaN       Action,Drama,Family  \n",
      "6059223     NaN            NaN       Action,Drama,Family  \n",
      "6059224     NaN             27                     Short  \n",
      "6059225     NaN            NaN   Animation,Comedy,Family  \n",
      "\n",
      "[6059226 rows x 9 columns]\n"
     ]
    }
   ],
   "source": [
    "title_basics1 = title_basics.replace('\\N', np.nan)\n",
    "print title_basics1"
   ]
  },
  {
   "cell_type": "markdown",
   "metadata": {},
   "source": [
    "Converting variable to float"
   ]
  },
  {
   "cell_type": "code",
   "execution_count": 169,
   "metadata": {},
   "outputs": [
    {
     "data": {
      "text/plain": [
       "tconst             object\n",
       "titleType          object\n",
       "primaryTitle       object\n",
       "originalTitle      object\n",
       "isAdult             int64\n",
       "startYear          object\n",
       "endYear            object\n",
       "runtimeMinutes     object\n",
       "genres             object\n",
       "startYear1        float64\n",
       "endYear1          float64\n",
       "dtype: object"
      ]
     },
     "execution_count": 169,
     "metadata": {},
     "output_type": "execute_result"
    }
   ],
   "source": [
    "title_basics1['startYear1'] = title_basics1['startYear'].astype(float) #convert birth year to float\n",
    "title_basics1['endYear1'] = title_basics1['endYear'].astype(float) #convert birth year to float\n",
    "#title_basics1['runtimeMinutes1'] = title_basics1['runtimeMinutes'].astype(float) #can't convert birth year to float\n",
    "\n",
    "title_basics1.dtypes"
   ]
  },
  {
   "cell_type": "markdown",
   "metadata": {},
   "source": [
    "Creating 2 new variables based on startYear and endYear"
   ]
  },
  {
   "cell_type": "code",
   "execution_count": 170,
   "metadata": {},
   "outputs": [
    {
     "name": "stdout",
     "output_type": "stream",
     "text": [
      "            tconst  titleType                                   primaryTitle  \\\n",
      "0        tt0000001      short                                     Carmencita   \n",
      "1        tt0000002      short                         Le clown et ses chiens   \n",
      "2        tt0000003      short                                 Pauvre Pierrot   \n",
      "3        tt0000004      short                                    Un bon bock   \n",
      "4        tt0000005      short                               Blacksmith Scene   \n",
      "5        tt0000006      short                              Chinese Opium Den   \n",
      "6        tt0000007      short    Corbett and Courtney Before the Kinetograph   \n",
      "7        tt0000008      short         Edison Kinetoscopic Record of a Sneeze   \n",
      "8        tt0000009      movie                                     Miss Jerry   \n",
      "9        tt0000010      short                            Exiting the Factory   \n",
      "10       tt0000011      short                        Akrobatisches Potpourri   \n",
      "11       tt0000012      short                         The Arrival of a Train   \n",
      "12       tt0000013      short    The Photographical Congress Arrives in Lyon   \n",
      "13       tt0000014      short                        The Sprinkler Sprinkled   \n",
      "14       tt0000015      short                            Autour d'une cabine   \n",
      "15       tt0000016      short                         Barque sortant du port   \n",
      "16       tt0000017      short                       Italienischer Bauerntanz   \n",
      "17       tt0000018      short                           Das boxende Känguruh   \n",
      "18       tt0000019      short                               The Clown Barber   \n",
      "19       tt0000020      short                                 The Derby 1895   \n",
      "20       tt0000022      short                               Blacksmith Scene   \n",
      "21       tt0000023      short                                        The Sea   \n",
      "22       tt0000024      short                      Opening of the Kiel Canal   \n",
      "23       tt0000025      short  The Oxford and Cambridge University Boat Race   \n",
      "24       tt0000026      short                  The Messers. Lumière at Cards   \n",
      "25       tt0000027      short                     Cordeliers' Square in Lyon   \n",
      "26       tt0000028      short                           Fishing for Goldfish   \n",
      "27       tt0000029      short                                  Baby's Dinner   \n",
      "28       tt0000030      short                             Rough Sea at Dover   \n",
      "29       tt0000031      short                            Jumping the Blanket   \n",
      "...            ...        ...                                            ...   \n",
      "6059196  tt9916796  tvEpisode                                  Episode #2.34   \n",
      "6059197  tt9916798  tvEpisode                                  Episode #2.36   \n",
      "6059198  tt9916800  tvEpisode                                  Episode #2.35   \n",
      "6059199  tt9916802  tvEpisode                                   Luc Janssens   \n",
      "6059200  tt9916804  tvEpisode                                  Episode #2.37   \n",
      "6059201  tt9916806  tvEpisode                                   Episode #3.1   \n",
      "6059202  tt9916808  tvEpisode                                   Episode #3.2   \n",
      "6059203  tt9916810  tvEpisode                   Danira Boukhriss Terkessidis   \n",
      "6059204  tt9916812  tvEpisode                                   Episode #3.3   \n",
      "6059205  tt9916814  tvEpisode                                   Episode #3.4   \n",
      "6059206  tt9916816  tvEpisode                                   Episode #3.5   \n",
      "6059207  tt9916818  tvEpisode                                   Episode #3.6   \n",
      "6059208  tt9916820  tvEpisode                                   Episode #3.7   \n",
      "6059209  tt9916822  tvEpisode                                   Episode #3.8   \n",
      "6059210  tt9916824  tvEpisode                                   Episode #3.9   \n",
      "6059211  tt9916826  tvEpisode                                  Episode #3.10   \n",
      "6059212  tt9916830  tvEpisode                                   Episode #2.6   \n",
      "6059213  tt9916832  tvEpisode                                  Episode #3.11   \n",
      "6059214  tt9916834  tvEpisode                                  Episode #3.12   \n",
      "6059215  tt9916836  tvEpisode                                  Episode #3.14   \n",
      "6059216  tt9916838  tvEpisode                                  Episode #3.13   \n",
      "6059217  tt9916840  tvEpisode                     Horrid Henry's Comic Caper   \n",
      "6059218  tt9916842  tvEpisode                                  Episode #3.16   \n",
      "6059219  tt9916844  tvEpisode                                  Episode #3.15   \n",
      "6059220  tt9916846  tvEpisode                                  Episode #3.18   \n",
      "6059221  tt9916848  tvEpisode                                  Episode #3.17   \n",
      "6059222  tt9916850  tvEpisode                                  Episode #3.19   \n",
      "6059223  tt9916852  tvEpisode                                  Episode #3.20   \n",
      "6059224  tt9916856      short                                       The Wind   \n",
      "6059225  tt9916880  tvEpisode                      Horrid Henry Knows It All   \n",
      "\n",
      "                                             originalTitle  isAdult  \\\n",
      "0                                               Carmencita        0   \n",
      "1                                   Le clown et ses chiens        0   \n",
      "2                                           Pauvre Pierrot        0   \n",
      "3                                              Un bon bock        0   \n",
      "4                                         Blacksmith Scene        0   \n",
      "5                                        Chinese Opium Den        0   \n",
      "6              Corbett and Courtney Before the Kinetograph        0   \n",
      "7                   Edison Kinetoscopic Record of a Sneeze        0   \n",
      "8                                               Miss Jerry        0   \n",
      "9                      La sortie de l'usine Lumière à Lyon        0   \n",
      "10                                 Akrobatisches Potpourri        0   \n",
      "11                        L'arrivée d'un train à La Ciotat        0   \n",
      "12       Neuville-sur-Saône: Débarquement du congrès de...        0   \n",
      "13                                       L'arroseur arrosé        0   \n",
      "14                                     Autour d'une cabine        0   \n",
      "15                                  Barque sortant du port        0   \n",
      "16                                Italienischer Bauerntanz        0   \n",
      "17                                    Das boxende Känguruh        0   \n",
      "18                                        The Clown Barber        0   \n",
      "19                                          The Derby 1895        0   \n",
      "20                                           Les forgerons        0   \n",
      "21                                         Baignade en mer        0   \n",
      "22                               Opening of the Kiel Canal        0   \n",
      "23           The Oxford and Cambridge University Boat Race        0   \n",
      "24                                         Partie d'écarté        0   \n",
      "25                             Place des Cordeliers à Lyon        0   \n",
      "26                            La pêche aux poissons rouges        0   \n",
      "27                                           Repas de bébé        0   \n",
      "28                                      Rough Sea at Dover        0   \n",
      "29                                 Le saut à la couverture        0   \n",
      "...                                                    ...      ...   \n",
      "6059196                                      Episode #2.34        0   \n",
      "6059197                                      Episode #2.36        0   \n",
      "6059198                                      Episode #2.35        0   \n",
      "6059199                                       Luc Janssens        0   \n",
      "6059200                                      Episode #2.37        0   \n",
      "6059201                                       Episode #3.1        0   \n",
      "6059202                                       Episode #3.2        0   \n",
      "6059203                       Danira Boukhriss Terkessidis        0   \n",
      "6059204                                       Episode #3.3        0   \n",
      "6059205                                       Episode #3.4        0   \n",
      "6059206                                       Episode #3.5        0   \n",
      "6059207                                       Episode #3.6        0   \n",
      "6059208                                       Episode #3.7        0   \n",
      "6059209                                       Episode #3.8        0   \n",
      "6059210                                       Episode #3.9        0   \n",
      "6059211                                      Episode #3.10        0   \n",
      "6059212                                       Episode #2.6        0   \n",
      "6059213                                      Episode #3.11        0   \n",
      "6059214                                      Episode #3.12        0   \n",
      "6059215                                      Episode #3.14        0   \n",
      "6059216                                      Episode #3.13        0   \n",
      "6059217                         Horrid Henry's Comic Caper        0   \n",
      "6059218                                      Episode #3.16        0   \n",
      "6059219                                      Episode #3.15        0   \n",
      "6059220                                      Episode #3.18        0   \n",
      "6059221                                      Episode #3.17        0   \n",
      "6059222                                      Episode #3.19        0   \n",
      "6059223                                      Episode #3.20        0   \n",
      "6059224                                           The Wind        0   \n",
      "6059225                          Horrid Henry Knows It All        0   \n",
      "\n",
      "        runtimeMinutes                    genres  year_release  years_end  \n",
      "0                    1         Documentary,Short         125.0        NaN  \n",
      "1                    5           Animation,Short         127.0        NaN  \n",
      "2                    4  Animation,Comedy,Romance         127.0        NaN  \n",
      "3                  NaN           Animation,Short         127.0        NaN  \n",
      "4                    1              Comedy,Short         126.0        NaN  \n",
      "5                    1                     Short         125.0        NaN  \n",
      "6                    1               Short,Sport         125.0        NaN  \n",
      "7                    1         Documentary,Short         125.0        NaN  \n",
      "8                   45                   Romance         125.0        NaN  \n",
      "9                    1         Documentary,Short         124.0        NaN  \n",
      "10                   1         Documentary,Short         124.0        NaN  \n",
      "11                   1  Action,Documentary,Short         123.0        NaN  \n",
      "12                   1         Documentary,Short         124.0        NaN  \n",
      "13                   1              Comedy,Short         124.0        NaN  \n",
      "14                   2           Animation,Short         125.0        NaN  \n",
      "15                   1         Documentary,Short         124.0        NaN  \n",
      "16                   1         Documentary,Short         124.0        NaN  \n",
      "17                   1                     Short         124.0        NaN  \n",
      "18                 NaN              Comedy,Short         121.0        NaN  \n",
      "19                   1   Documentary,Short,Sport         124.0        NaN  \n",
      "20                   1         Documentary,Short         124.0        NaN  \n",
      "21                   1         Documentary,Short         124.0        NaN  \n",
      "22                 NaN                News,Short         124.0        NaN  \n",
      "23                 NaN          News,Short,Sport         124.0        NaN  \n",
      "24                   1         Documentary,Short         123.0        NaN  \n",
      "25                   1         Documentary,Short         124.0        NaN  \n",
      "26                   1         Documentary,Short         124.0        NaN  \n",
      "27                   1         Documentary,Short         124.0        NaN  \n",
      "28                   1         Documentary,Short         124.0        NaN  \n",
      "29                   1         Documentary,Short         124.0        NaN  \n",
      "...                ...                       ...           ...        ...  \n",
      "6059196            NaN       Action,Drama,Family          10.0        NaN  \n",
      "6059197            NaN       Action,Drama,Family          10.0        NaN  \n",
      "6059198            NaN       Action,Drama,Family          10.0        NaN  \n",
      "6059199            NaN     Comedy,News,Talk-Show           0.0        NaN  \n",
      "6059200            NaN       Action,Drama,Family          10.0        NaN  \n",
      "6059201            NaN       Action,Drama,Family           9.0        NaN  \n",
      "6059202            NaN       Action,Drama,Family           9.0        NaN  \n",
      "6059203            NaN     Comedy,News,Talk-Show           0.0        NaN  \n",
      "6059204            NaN       Action,Drama,Family           9.0        NaN  \n",
      "6059205            NaN       Action,Drama,Family           9.0        NaN  \n",
      "6059206            NaN       Action,Drama,Family           9.0        NaN  \n",
      "6059207            NaN       Action,Drama,Family           9.0        NaN  \n",
      "6059208            NaN       Action,Drama,Family           9.0        NaN  \n",
      "6059209            NaN       Action,Drama,Family           9.0        NaN  \n",
      "6059210            NaN       Action,Drama,Family           9.0        NaN  \n",
      "6059211            NaN       Action,Drama,Family           9.0        NaN  \n",
      "6059212            NaN                 Game-Show          46.0        NaN  \n",
      "6059213            NaN       Action,Drama,Family           9.0        NaN  \n",
      "6059214            NaN       Action,Drama,Family           9.0        NaN  \n",
      "6059215            NaN       Action,Drama,Family           9.0        NaN  \n",
      "6059216            NaN       Action,Drama,Family           9.0        NaN  \n",
      "6059217            NaN   Animation,Comedy,Family           5.0        NaN  \n",
      "6059218            NaN       Action,Drama,Family           9.0        NaN  \n",
      "6059219            NaN       Action,Drama,Family           9.0        NaN  \n",
      "6059220            NaN       Action,Drama,Family           9.0        NaN  \n",
      "6059221            NaN       Action,Drama,Family           9.0        NaN  \n",
      "6059222            NaN       Action,Drama,Family           9.0        NaN  \n",
      "6059223            NaN       Action,Drama,Family           9.0        NaN  \n",
      "6059224             27                     Short           4.0        NaN  \n",
      "6059225            NaN   Animation,Comedy,Family           5.0        NaN  \n",
      "\n",
      "[6059226 rows x 9 columns]\n"
     ]
    }
   ],
   "source": [
    "title_basics1['year_release'] = 2019 - title_basics1['startYear1']\n",
    "title_basics1['years_end'] = 2019 - title_basics1['endYear1']\n",
    "\n",
    "title_basics2 = title_basics1.drop(['startYear','endYear','startYear1', 'endYear1'], axis=1)\n",
    "print title_basics2"
   ]
  },
  {
   "cell_type": "code",
   "execution_count": 149,
   "metadata": {},
   "outputs": [
    {
     "data": {
      "text/plain": [
       "Drama                          564887\n",
       "Comedy                         448409\n",
       "Documentary                    300680\n",
       "Talk-Show                      297673\n",
       "Drama,Romance                  280391\n",
       "News                           218089\n",
       "Reality-TV                     189725\n",
       "Adult                          160714\n",
       "Short                          136694\n",
       "Drama,Short                    132715\n",
       "Comedy,Short                   113521\n",
       "Documentary,Short               99709\n",
       "Game-Show                       96104\n",
       "Family                          94910\n",
       "News,Talk-Show                  81829\n",
       "Music                           75568\n",
       "Sport                           63481\n",
       "Comedy,Drama,Romance            59662\n",
       "Comedy,Talk-Show                57481\n",
       "Comedy,Drama                    54273\n",
       "Romance                         52230\n",
       "Music,Short                     51835\n",
       "Animation                       48432\n",
       "Crime,Drama                     35657\n",
       "Crime                           35189\n",
       "Action,Adventure,Animation      34589\n",
       "Animation,Comedy,Family         33998\n",
       "Comedy,Music,Talk-Show          33713\n",
       "Crime,Drama,Mystery             32785\n",
       "Comedy,Family                   31152\n",
       "                                ...  \n",
       "Crime,Documentary,Musical           1\n",
       "Action,Music,War                    1\n",
       "Music,Musical,Sport                 1\n",
       "Adult,Horror,Music                  1\n",
       "Comedy,Mystery,Sport                1\n",
       "Adventure,Biography,Sport           1\n",
       "Romance,Thriller,Western            1\n",
       "Crime,Film-Noir                     1\n",
       "Biography,Thriller,Western          1\n",
       "Adult,Musical,Short                 1\n",
       "Action,Documentary,Thriller         1\n",
       "Music,Romance,Thriller              1\n",
       "Family,Sci-Fi,Sport                 1\n",
       "Adventure,News,Talk-Show            1\n",
       "Crime,History,Music                 1\n",
       "Action,Adult,Sport                  1\n",
       "Action,Adult,War                    1\n",
       "Action,Adult,Documentary            1\n",
       "Family,Musical,News                 1\n",
       "Crime,Fantasy,Musical               1\n",
       "Game-Show,Music,Short               1\n",
       "Documentary,Fantasy,Western         1\n",
       "Adventure,History,Sport             1\n",
       "News,Romance                        1\n",
       "Mystery,Sport,Western               1\n",
       "Adventure,Film-Noir,Romance         1\n",
       "Adventure,Horror,War                1\n",
       "Animation,Music,Thriller            1\n",
       "Adult,Animation,Musical             1\n",
       "Film-Noir                           1\n",
       "Name: genres, Length: 2224, dtype: int64"
      ]
     },
     "execution_count": 149,
     "metadata": {},
     "output_type": "execute_result"
    }
   ],
   "source": [
    "title_basics2['genres'].value_counts()"
   ]
  },
  {
   "cell_type": "markdown",
   "metadata": {},
   "source": [
    "Replacing the missing values by the most common value"
   ]
  },
  {
   "cell_type": "code",
   "execution_count": 171,
   "metadata": {},
   "outputs": [],
   "source": [
    "title_basics2['titleType'].fillna('tvEpisode', inplace=True) #\n",
    "title_basics2['primaryTitle'].fillna('Episode #1.1', inplace=True) \n",
    "title_basics2['originalTitle'].fillna('Episode #1.1', inplace=True) \n",
    "title_basics2['runtimeMinutes'].fillna('30', inplace=True)  #one string value in the list \"Animation,Family\"\n",
    "title_basics2['genres'].fillna('Drama', inplace=True) \n"
   ]
  },
  {
   "cell_type": "markdown",
   "metadata": {},
   "source": [
    "# Merging tables"
   ]
  },
  {
   "cell_type": "markdown",
   "metadata": {},
   "source": [
    "Merging all tables (base is title_ratings2)"
   ]
  },
  {
   "cell_type": "code",
   "execution_count": 224,
   "metadata": {},
   "outputs": [],
   "source": [
    "title_ratings2 = title_ratings1.drop_duplicates(['tconst'])#dropping duplicates\n",
    "title_crew2 = title_crew1.drop_duplicates(['tconst'])#dropping duplicates\n",
    "title_akas2 = title_akas1.drop_duplicates(['tconst'])#dropping duplicates\n",
    "title_episode2 = title_episode1.drop_duplicates(['tconst'])#dropping duplicates\n",
    "Title_principals3 = Title_principals2.drop_duplicates(['tconst'])#dropping duplicates\n",
    "name_basics3 = name_basics2.drop_duplicates(['tconst'])#dropping duplicates\n",
    "title_basics3 = title_basics2.drop_duplicates(['tconst'])#dropping duplicates\n"
   ]
  },
  {
   "cell_type": "code",
   "execution_count": 187,
   "metadata": {},
   "outputs": [
    {
     "data": {
      "text/plain": [
       "Index([u'tconst', u'ordering', u'nconst', u'category', u'job', u'characters'], dtype='object')"
      ]
     },
     "execution_count": 187,
     "metadata": {},
     "output_type": "execute_result"
    }
   ],
   "source": [
    "Title_principals3.columns"
   ]
  },
  {
   "cell_type": "markdown",
   "metadata": {},
   "source": [
    "Merge1"
   ]
  },
  {
   "cell_type": "code",
   "execution_count": 225,
   "metadata": {},
   "outputs": [
    {
     "data": {
      "text/plain": [
       "(958632, 5)"
      ]
     },
     "execution_count": 225,
     "metadata": {},
     "output_type": "execute_result"
    }
   ],
   "source": [
    "data1 = pd.merge(title_ratings2, title_crew2, on = 'tconst', how = 'left')\n",
    "data1.shape\n",
    "\n",
    "#title_akas2,title_episode2,name_basics3,Title_principals3,title_basics3"
   ]
  },
  {
   "cell_type": "markdown",
   "metadata": {},
   "source": [
    "Merge2"
   ]
  },
  {
   "cell_type": "code",
   "execution_count": 227,
   "metadata": {},
   "outputs": [
    {
     "data": {
      "text/plain": [
       "(958632, 11)"
      ]
     },
     "execution_count": 227,
     "metadata": {},
     "output_type": "execute_result"
    }
   ],
   "source": [
    "data2 = pd.merge(data1, title_akas2, on = 'tconst', how = 'left')\n",
    "data2.shape"
   ]
  },
  {
   "cell_type": "markdown",
   "metadata": {},
   "source": [
    "Merge3"
   ]
  },
  {
   "cell_type": "code",
   "execution_count": 228,
   "metadata": {},
   "outputs": [
    {
     "data": {
      "text/plain": [
       "(958632, 14)"
      ]
     },
     "execution_count": 228,
     "metadata": {},
     "output_type": "execute_result"
    }
   ],
   "source": [
    "data3 = pd.merge(data2, title_episode2, on = 'tconst', how = 'left')\n",
    "data3.shape"
   ]
  },
  {
   "cell_type": "markdown",
   "metadata": {},
   "source": [
    "Merge4"
   ]
  },
  {
   "cell_type": "code",
   "execution_count": 229,
   "metadata": {},
   "outputs": [
    {
     "data": {
      "text/plain": [
       "(958632, 19)"
      ]
     },
     "execution_count": 229,
     "metadata": {},
     "output_type": "execute_result"
    }
   ],
   "source": [
    "data4 = pd.merge(data3, name_basics3, on = 'tconst', how = 'left')\n",
    "data4.shape"
   ]
  },
  {
   "cell_type": "markdown",
   "metadata": {},
   "source": [
    "Merge5"
   ]
  },
  {
   "cell_type": "code",
   "execution_count": 230,
   "metadata": {},
   "outputs": [
    {
     "data": {
      "text/plain": [
       "(958632, 24)"
      ]
     },
     "execution_count": 230,
     "metadata": {},
     "output_type": "execute_result"
    }
   ],
   "source": [
    "data5 = pd.merge(data4, Title_principals3, on = 'tconst', how = 'left')\n",
    "data5.shape"
   ]
  },
  {
   "cell_type": "markdown",
   "metadata": {},
   "source": [
    "Merge6"
   ]
  },
  {
   "cell_type": "code",
   "execution_count": 231,
   "metadata": {},
   "outputs": [
    {
     "data": {
      "text/plain": [
       "(958632, 32)"
      ]
     },
     "execution_count": 231,
     "metadata": {},
     "output_type": "execute_result"
    }
   ],
   "source": [
    "data6 = pd.merge(data5, title_basics3, on = 'tconst', how = 'left')\n",
    "data6.shape"
   ]
  },
  {
   "cell_type": "code",
   "execution_count": null,
   "metadata": {},
   "outputs": [],
   "source": []
  },
  {
   "cell_type": "code",
   "execution_count": null,
   "metadata": {},
   "outputs": [],
   "source": []
  },
  {
   "cell_type": "code",
   "execution_count": null,
   "metadata": {},
   "outputs": [],
   "source": []
  },
  {
   "cell_type": "code",
   "execution_count": null,
   "metadata": {},
   "outputs": [],
   "source": []
  }
 ],
 "metadata": {
  "kernelspec": {
   "display_name": "Python 2",
   "language": "python",
   "name": "python2"
  },
  "language_info": {
   "codemirror_mode": {
    "name": "ipython",
    "version": 2
   },
   "file_extension": ".py",
   "mimetype": "text/x-python",
   "name": "python",
   "nbconvert_exporter": "python",
   "pygments_lexer": "ipython2",
   "version": "2.7.14"
  }
 },
 "nbformat": 4,
 "nbformat_minor": 2
}
